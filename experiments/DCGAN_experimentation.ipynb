{
 "cells": [
  {
   "cell_type": "code",
   "execution_count": 1,
   "metadata": {},
   "outputs": [
    {
     "name": "stderr",
     "output_type": "stream",
     "text": [
      "2022-11-13 17:00:31.363665: I tensorflow/core/platform/cpu_feature_guard.cc:193] This TensorFlow binary is optimized with oneAPI Deep Neural Network Library (oneDNN) to use the following CPU instructions in performance-critical operations:  AVX2 AVX512F AVX512_VNNI FMA\n",
      "To enable them in other operations, rebuild TensorFlow with the appropriate compiler flags.\n",
      "2022-11-13 17:00:31.437807: I tensorflow/core/util/port.cc:104] oneDNN custom operations are on. You may see slightly different numerical results due to floating-point round-off errors from different computation orders. To turn them off, set the environment variable `TF_ENABLE_ONEDNN_OPTS=0`.\n",
      "2022-11-13 17:00:31.927309: W tensorflow/tsl/platform/default/dso_loader.cc:66] Could not load dynamic library 'libnvinfer.so.8'; dlerror: libnvinfer.so.8: cannot open shared object file: No such file or directory; LD_LIBRARY_PATH: :/home/chen/miniconda3/lib/:/home/chen/miniconda3/envs/tf/lib/\n",
      "2022-11-13 17:00:31.927561: W tensorflow/tsl/platform/default/dso_loader.cc:66] Could not load dynamic library 'libnvinfer_plugin.so.8'; dlerror: libnvinfer_plugin.so.8: cannot open shared object file: No such file or directory; LD_LIBRARY_PATH: :/home/chen/miniconda3/lib/:/home/chen/miniconda3/envs/tf/lib/\n",
      "2022-11-13 17:00:31.927565: W tensorflow/compiler/tf2tensorrt/utils/py_utils.cc:38] TF-TRT Warning: Cannot dlopen some TensorRT libraries. If you would like to use Nvidia GPU with TensorRT, please make sure the missing libraries mentioned above are installed properly.\n"
     ]
    },
    {
     "name": "stdout",
     "output_type": "stream",
     "text": [
      "1 Physical GPUs, 1 Logical GPU\n",
      "INFO:tensorflow:Mixed precision compatibility check (mixed_float16): OK\n",
      "Your GPU will likely run quickly with dtype policy mixed_float16 as it has compute capability of at least 7.0. Your GPU: NVIDIA GeForce RTX 3070, compute capability 8.6\n"
     ]
    },
    {
     "name": "stderr",
     "output_type": "stream",
     "text": [
      "2022-11-13 17:00:32.363826: I tensorflow/compiler/xla/stream_executor/cuda/cuda_gpu_executor.cc:995] successful NUMA node read from SysFS had negative value (-1), but there must be at least one NUMA node, so returning NUMA node zero. See more at https://github.com/torvalds/linux/blob/v6.0/Documentation/ABI/testing/sysfs-bus-pci#L344-L355\n",
      "2022-11-13 17:00:32.368612: I tensorflow/compiler/xla/stream_executor/cuda/cuda_gpu_executor.cc:995] successful NUMA node read from SysFS had negative value (-1), but there must be at least one NUMA node, so returning NUMA node zero. See more at https://github.com/torvalds/linux/blob/v6.0/Documentation/ABI/testing/sysfs-bus-pci#L344-L355\n",
      "2022-11-13 17:00:32.368712: I tensorflow/compiler/xla/stream_executor/cuda/cuda_gpu_executor.cc:995] successful NUMA node read from SysFS had negative value (-1), but there must be at least one NUMA node, so returning NUMA node zero. See more at https://github.com/torvalds/linux/blob/v6.0/Documentation/ABI/testing/sysfs-bus-pci#L344-L355\n",
      "2022-11-13 17:00:32.369898: I tensorflow/compiler/xla/stream_executor/cuda/cuda_gpu_executor.cc:995] successful NUMA node read from SysFS had negative value (-1), but there must be at least one NUMA node, so returning NUMA node zero. See more at https://github.com/torvalds/linux/blob/v6.0/Documentation/ABI/testing/sysfs-bus-pci#L344-L355\n",
      "2022-11-13 17:00:32.370000: I tensorflow/compiler/xla/stream_executor/cuda/cuda_gpu_executor.cc:995] successful NUMA node read from SysFS had negative value (-1), but there must be at least one NUMA node, so returning NUMA node zero. See more at https://github.com/torvalds/linux/blob/v6.0/Documentation/ABI/testing/sysfs-bus-pci#L344-L355\n",
      "2022-11-13 17:00:32.370063: I tensorflow/compiler/xla/stream_executor/cuda/cuda_gpu_executor.cc:995] successful NUMA node read from SysFS had negative value (-1), but there must be at least one NUMA node, so returning NUMA node zero. See more at https://github.com/torvalds/linux/blob/v6.0/Documentation/ABI/testing/sysfs-bus-pci#L344-L355\n",
      "2022-11-13 17:00:32.716250: I tensorflow/compiler/xla/stream_executor/cuda/cuda_gpu_executor.cc:995] successful NUMA node read from SysFS had negative value (-1), but there must be at least one NUMA node, so returning NUMA node zero. See more at https://github.com/torvalds/linux/blob/v6.0/Documentation/ABI/testing/sysfs-bus-pci#L344-L355\n",
      "2022-11-13 17:00:32.716384: I tensorflow/compiler/xla/stream_executor/cuda/cuda_gpu_executor.cc:995] successful NUMA node read from SysFS had negative value (-1), but there must be at least one NUMA node, so returning NUMA node zero. See more at https://github.com/torvalds/linux/blob/v6.0/Documentation/ABI/testing/sysfs-bus-pci#L344-L355\n",
      "2022-11-13 17:00:32.716457: I tensorflow/compiler/xla/stream_executor/cuda/cuda_gpu_executor.cc:995] successful NUMA node read from SysFS had negative value (-1), but there must be at least one NUMA node, so returning NUMA node zero. See more at https://github.com/torvalds/linux/blob/v6.0/Documentation/ABI/testing/sysfs-bus-pci#L344-L355\n",
      "2022-11-13 17:00:32.716523: I tensorflow/core/common_runtime/gpu/gpu_device.cc:1614] Created device /job:localhost/replica:0/task:0/device:GPU:0 with 5378 MB memory:  -> device: 0, name: NVIDIA GeForce RTX 3070, pci bus id: 0000:01:00.0, compute capability: 8.6\n",
      "2022-11-13 17:00:32.718262: I tensorflow/compiler/xla/stream_executor/cuda/cuda_gpu_executor.cc:995] successful NUMA node read from SysFS had negative value (-1), but there must be at least one NUMA node, so returning NUMA node zero. See more at https://github.com/torvalds/linux/blob/v6.0/Documentation/ABI/testing/sysfs-bus-pci#L344-L355\n"
     ]
    }
   ],
   "source": [
    "# Prepare gpu for training\n",
    "import tensorflow as tf\n",
    "gpus = tf.config.list_physical_devices('GPU')\n",
    "if gpus:\n",
    "  # Restrict TensorFlow to only use the first GPU\n",
    "  try:\n",
    "    for gpu in gpus:\n",
    "      tf.config.experimental.set_memory_growth(gpu, True)\n",
    "    tf.config.set_visible_devices(gpus[0], 'GPU')\n",
    "    logical_gpus = tf.config.list_logical_devices('GPU')\n",
    "    print(len(gpus), \"Physical GPUs,\", len(logical_gpus), \"Logical GPU\")\n",
    "  except RuntimeError as e:\n",
    "    # Visible devices must be set before GPUs have been initialized\n",
    "    print(e)\n",
    "\n",
    "tf.config.list_physical_devices(\"GPU\")\n",
    "\n",
    "\n",
    "from tensorflow.keras import mixed_precision\n",
    "mixed_precision.set_global_policy('mixed_float16')"
   ]
  },
  {
   "cell_type": "code",
   "execution_count": 2,
   "metadata": {},
   "outputs": [],
   "source": [
    "from scripts.experiment import run_experiment"
   ]
  },
  {
   "cell_type": "code",
   "execution_count": 5,
   "metadata": {},
   "outputs": [
    {
     "name": "stdout",
     "output_type": "stream",
     "text": [
      "Found 3 files belonging to 1 classes.\n"
     ]
    }
   ],
   "source": [
    "generator, discriminator = run_experiment(\"scapes_640_320_cropped_zero_pad_limit_0_5\", \"dcgan_scapes_640_360\", \"dcgan_scapes_v1\", num_examples_to_generate=4, epochs=1, colab=False)"
   ]
  },
  {
   "cell_type": "code",
   "execution_count": 6,
   "metadata": {},
   "outputs": [
    {
     "name": "stdout",
     "output_type": "stream",
     "text": [
      "Model: \"sequential_2\"\n",
      "_________________________________________________________________\n",
      " Layer (type)                Output Shape              Param #   \n",
      "=================================================================\n",
      " dense_2 (Dense)             (None, 102400)            10342400  \n",
      "                                                                 \n",
      " reshape_1 (Reshape)         (None, 10, 10, 1024)      0         \n",
      "                                                                 \n",
      " re_lu_6 (ReLU)              (None, 10, 10, 1024)      0         \n",
      "                                                                 \n",
      " batch_normalization_8 (Batc  (None, 10, 10, 1024)     4096      \n",
      " hNormalization)                                                 \n",
      "                                                                 \n",
      " conv2d_transpose_6 (Conv2DT  (None, 20, 20, 512)      13107712  \n",
      " ranspose)                                                       \n",
      "                                                                 \n",
      " batch_normalization_9 (Batc  (None, 20, 20, 512)      2048      \n",
      " hNormalization)                                                 \n",
      "                                                                 \n",
      " conv2d_transpose_7 (Conv2DT  (None, 40, 40, 512)      6554112   \n",
      " ranspose)                                                       \n",
      "                                                                 \n",
      " batch_normalization_10 (Bat  (None, 40, 40, 512)      2048      \n",
      " chNormalization)                                                \n",
      "                                                                 \n",
      " conv2d_transpose_8 (Conv2DT  (None, 80, 80, 512)      6554112   \n",
      " ranspose)                                                       \n",
      "                                                                 \n",
      " batch_normalization_11 (Bat  (None, 80, 80, 512)      2048      \n",
      " chNormalization)                                                \n",
      "                                                                 \n",
      " conv2d_transpose_9 (Conv2DT  (None, 160, 160, 512)    6554112   \n",
      " ranspose)                                                       \n",
      "                                                                 \n",
      " batch_normalization_12 (Bat  (None, 160, 160, 512)    2048      \n",
      " chNormalization)                                                \n",
      "                                                                 \n",
      " conv2d_transpose_10 (Conv2D  (None, 320, 320, 512)    6554112   \n",
      " Transpose)                                                      \n",
      "                                                                 \n",
      " batch_normalization_13 (Bat  (None, 320, 320, 512)    2048      \n",
      " chNormalization)                                                \n",
      "                                                                 \n",
      " conv2d_transpose_11 (Conv2D  (None, 640, 640, 512)    6554112   \n",
      " Transpose)                                                      \n",
      "                                                                 \n",
      " batch_normalization_14 (Bat  (None, 640, 640, 512)    2048      \n",
      " chNormalization)                                                \n",
      "                                                                 \n",
      " re_lu_7 (ReLU)              (None, 640, 640, 512)     0         \n",
      "                                                                 \n",
      " batch_normalization_15 (Bat  (None, 640, 640, 512)    2048      \n",
      " chNormalization)                                                \n",
      "                                                                 \n",
      " resizing_1 (Resizing)       (None, 360, 640, 512)     0         \n",
      "                                                                 \n",
      " conv2d_5 (Conv2D)           (None, 360, 640, 3)       38403     \n",
      "                                                                 \n",
      "=================================================================\n",
      "Total params: 56,277,507\n",
      "Trainable params: 56,268,291\n",
      "Non-trainable params: 9,216\n",
      "_________________________________________________________________\n"
     ]
    }
   ],
   "source": [
    "generator.summary()"
   ]
  },
  {
   "cell_type": "code",
   "execution_count": 9,
   "metadata": {},
   "outputs": [
    {
     "name": "stdout",
     "output_type": "stream",
     "text": [
      "Model: \"sequential_5\"\n",
      "_________________________________________________________________\n",
      " Layer (type)                Output Shape              Param #   \n",
      "=================================================================\n",
      " conv2d_11 (Conv2D)          (None, 180, 320, 64)      4864      \n",
      "                                                                 \n",
      " re_lu_14 (ReLU)             (None, 180, 320, 64)      0         \n",
      "                                                                 \n",
      " dropout_8 (Dropout)         (None, 180, 320, 64)      0         \n",
      "                                                                 \n",
      " conv2d_12 (Conv2D)          (None, 90, 160, 128)      204928    \n",
      "                                                                 \n",
      " re_lu_15 (ReLU)             (None, 90, 160, 128)      0         \n",
      "                                                                 \n",
      " dropout_9 (Dropout)         (None, 90, 160, 128)      0         \n",
      "                                                                 \n",
      " conv2d_13 (Conv2D)          (None, 45, 80, 256)       819456    \n",
      "                                                                 \n",
      " re_lu_16 (ReLU)             (None, 45, 80, 256)       0         \n",
      "                                                                 \n",
      " dropout_10 (Dropout)        (None, 45, 80, 256)       0         \n",
      "                                                                 \n",
      " conv2d_14 (Conv2D)          (None, 23, 40, 512)       3277312   \n",
      "                                                                 \n",
      " re_lu_17 (ReLU)             (None, 23, 40, 512)       0         \n",
      "                                                                 \n",
      " dropout_11 (Dropout)        (None, 23, 40, 512)       0         \n",
      "                                                                 \n",
      " flatten_2 (Flatten)         (None, 471040)            0         \n",
      "                                                                 \n",
      " dense_5 (Dense)             (None, 1)                 471041    \n",
      "                                                                 \n",
      "=================================================================\n",
      "Total params: 4,777,601\n",
      "Trainable params: 4,777,601\n",
      "Non-trainable params: 0\n",
      "_________________________________________________________________\n"
     ]
    }
   ],
   "source": [
    "discriminator.summary()"
   ]
  }
 ],
 "metadata": {
  "kernelspec": {
   "display_name": "Python 3",
   "language": "python",
   "name": "python3"
  },
  "language_info": {
   "codemirror_mode": {
    "name": "ipython",
    "version": 3
   },
   "file_extension": ".py",
   "mimetype": "text/x-python",
   "name": "python",
   "nbconvert_exporter": "python",
   "pygments_lexer": "ipython3",
   "version": "3.9.13"
  },
  "orig_nbformat": 4,
  "vscode": {
   "interpreter": {
    "hash": "3b1c19a084cb33ef0f2d488bfb5bf89f4e55dc917e237e1f0ec816b469d1d4ab"
   }
  }
 },
 "nbformat": 4,
 "nbformat_minor": 2
}
