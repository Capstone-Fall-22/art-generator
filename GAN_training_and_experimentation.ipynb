{
  "cells": [
    {
      "cell_type": "markdown",
      "metadata": {
        "id": "T0BPfhsV_6-n"
      },
      "source": [
        "# DCGAN\n",
        "### This notebook contains an implementation of the model described [here](https://arxiv.org/abs/1511.06434)"
      ]
    },
    {
      "cell_type": "markdown",
      "metadata": {
        "id": "2QAGphavwpww"
      },
      "source": [
        "## Notebook resources"
      ]
    },
    {
      "cell_type": "code",
      "execution_count": 6,
      "metadata": {
        "colab": {
          "base_uri": "https://localhost:8080/"
        },
        "id": "cZxTdUcewpKU",
        "outputId": "3335cb02-0f28-4a18-bf9f-0dbce2f1aacd"
      },
      "outputs": [
        {
          "name": "stdout",
          "output_type": "stream",
          "text": [
            "Thu Oct 27 17:34:09 2022       \n",
            "+-----------------------------------------------------------------------------+\n",
            "| NVIDIA-SMI 460.32.03    Driver Version: 460.32.03    CUDA Version: 11.2     |\n",
            "|-------------------------------+----------------------+----------------------+\n",
            "| GPU  Name        Persistence-M| Bus-Id        Disp.A | Volatile Uncorr. ECC |\n",
            "| Fan  Temp  Perf  Pwr:Usage/Cap|         Memory-Usage | GPU-Util  Compute M. |\n",
            "|                               |                      |               MIG M. |\n",
            "|===============================+======================+======================|\n",
            "|   0  Tesla T4            Off  | 00000000:00:04.0 Off |                    0 |\n",
            "| N/A   37C    P8     9W /  70W |      0MiB / 15109MiB |      0%      Default |\n",
            "|                               |                      |                  N/A |\n",
            "+-------------------------------+----------------------+----------------------+\n",
            "                                                                               \n",
            "+-----------------------------------------------------------------------------+\n",
            "| Processes:                                                                  |\n",
            "|  GPU   GI   CI        PID   Type   Process name                  GPU Memory |\n",
            "|        ID   ID                                                   Usage      |\n",
            "|=============================================================================|\n",
            "|  No running processes found                                                 |\n",
            "+-----------------------------------------------------------------------------+\n",
            "Your runtime has 27.3 gigabytes of available RAM\n",
            "\n",
            "You are using a high-RAM runtime!\n"
          ]
        }
      ],
      "source": [
        "gpu_info = !nvidia-smi\n",
        "gpu_info = '\\n'.join(gpu_info)\n",
        "if gpu_info.find('failed') >= 0:\n",
        "  print('Not connected to a GPU')\n",
        "else:\n",
        "  print(gpu_info)\n",
        "\n",
        "from psutil import virtual_memory\n",
        "ram_gb = virtual_memory().total / 1e9\n",
        "print('Your runtime has {:.1f} gigabytes of available RAM\\n'.format(ram_gb))\n",
        "\n",
        "if ram_gb < 20:\n",
        "  print('Not using a high-RAM runtime')\n",
        "else:\n",
        "  print('You are using a high-RAM runtime!')\n",
        "  "
      ]
    },
    {
      "cell_type": "markdown",
      "metadata": {
        "id": "iWLYMeV3OUTi"
      },
      "source": [
        "## Defining constants"
      ]
    },
    {
      "cell_type": "code",
      "execution_count": 2,
      "metadata": {
        "id": "4c6SVnwxOZTo"
      },
      "outputs": [],
      "source": [
        "len_seed = 4 # How many elements in seed vector, 100 was used in DCGAN paper"
      ]
    },
    {
      "cell_type": "markdown",
      "metadata": {
        "id": "1Hv56JfLAKF4"
      },
      "source": [
        "## Loading and preprocessing MNIST"
      ]
    },
    {
      "cell_type": "markdown",
      "metadata": {
        "id": "goAOESttASVk"
      },
      "source": [
        "### Imports"
      ]
    },
    {
      "cell_type": "code",
      "execution_count": 3,
      "metadata": {
        "id": "U0Ua1qFUARwI"
      },
      "outputs": [],
      "source": [
        "import numpy as np\n",
        "import matplotlib.pyplot as plt\n",
        "from tensorflow.keras.datasets import mnist"
      ]
    },
    {
      "cell_type": "markdown",
      "metadata": {
        "id": "geLJF66MAW1P"
      },
      "source": [
        "### Loading data"
      ]
    },
    {
      "cell_type": "code",
      "execution_count": 4,
      "metadata": {
        "colab": {
          "base_uri": "https://localhost:8080/"
        },
        "id": "ECOj5kxN_uBH",
        "outputId": "ad296cf3-2f8c-4ef4-8136-30eacf35578a"
      },
      "outputs": [
        {
          "name": "stdout",
          "output_type": "stream",
          "text": [
            "Downloading data from https://storage.googleapis.com/tensorflow/tf-keras-datasets/mnist.npz\n",
            "11490434/11490434 [==============================] - 0s 0us/step\n",
            "training_data shape: (70000, 28, 28)\n",
            "X_train shape: (60000, 28, 28)\n",
            "y_train shape: (60000,)\n",
            "X_test shape: (10000, 28, 28)\n",
            "y_test shape: (10000,)\n"
          ]
        }
      ],
      "source": [
        "(X_train, y_train), (X_test, y_test) = mnist.load_data()\n",
        "\n",
        "training_data = np.concatenate((X_train, X_test))\n",
        "\n",
        "print(f'training_data shape: {training_data.shape}')\n",
        "print(f'X_train shape: {X_train.shape}')\n",
        "print(f'y_train shape: {y_train.shape}')\n",
        "print(f'X_test shape: {X_test.shape}')\n",
        "print(f'y_test shape: {y_test.shape}')"
      ]
    },
    {
      "cell_type": "markdown",
      "metadata": {
        "id": "h4IhJUTRAj2D"
      },
      "source": [
        "### Preprocessing\n",
        "\n",
        "\n",
        "* Reshape the dataset to (70000, 28, 28, 1)\n",
        " * 70,000 images with a size of 28x28 and 1 color channel\n",
        "\n"
      ]
    },
    {
      "cell_type": "code",
      "execution_count": 5,
      "metadata": {
        "colab": {
          "base_uri": "https://localhost:8080/"
        },
        "id": "enxLNOAWAh59",
        "outputId": "284219be-ddc3-428a-9b32-cd3a268b8069"
      },
      "outputs": [
        {
          "data": {
            "text/plain": [
              "(70000, 28, 28, 1)"
            ]
          },
          "execution_count": 5,
          "metadata": {},
          "output_type": "execute_result"
        }
      ],
      "source": [
        "training_data = training_data / 127.5 - 1 # Normalize the images\n",
        "training_data = np.reshape(training_data, (-1, 28, 28, 1))\n",
        "np.random.shuffle(training_data) # Randomize order of images\n",
        "training_data.shape"
      ]
    },
    {
      "cell_type": "markdown",
      "metadata": {
        "id": "pOvr5CE5BVts"
      },
      "source": [
        "### Training image preview"
      ]
    },
    {
      "cell_type": "code",
      "execution_count": null,
      "metadata": {
        "id": "HctesIuABU7U"
      },
      "outputs": [],
      "source": [
        "def display_images(images):\n",
        "  # Max number of images is 24\n",
        "  if len(images) > 24:\n",
        "    return\n",
        "\n",
        "  fig = plt.figure(figsize=(8,8))\n",
        "  columns = 6\n",
        "  rows = 4\n",
        "  for i in range(len(images)):\n",
        "    fig.add_subplot(rows, columns, i + 1)\n",
        "    plt.imshow(images[i].reshape(28,28))"
      ]
    },
    {
      "cell_type": "code",
      "execution_count": null,
      "metadata": {
        "colab": {
          "base_uri": "https://localhost:8080/"
        },
        "id": "JeWNzRBDI2oM",
        "outputId": "eed3b47a-895f-4888-8bb9-93d5ce51e1f7"
      },
      "outputs": [
        {
          "data": {
            "image/png": "[encoded data removed]",
            "text/plain": [
              "<Figure size 576x576 with 24 Axes>"
            ]
          },
          "metadata": {
            "needs_background": "light"
          },
          "output_type": "display_data"
        }
      ],
      "source": [
        "display_images(training_data[:24])"
      ]
    },
    {
      "cell_type": "markdown",
      "metadata": {
        "id": "utMLnUc2DMpS"
      },
      "source": [
        "## Imports for building models"
      ]
    },
    {
      "cell_type": "code",
      "execution_count": null,
      "metadata": {
        "id": "CVw4W4DvDMTN"
      },
      "outputs": [],
      "source": [
        "import tensorflow as tf\n",
        "from tensorflow.keras.models import Sequential\n",
        "from tensorflow.keras.layers import Dense, Reshape, UpSampling2D, Conv2D, Flatten, Dropout, LeakyReLU, BatchNormalization, ZeroPadding2D"
      ]
    },
    {
      "cell_type": "markdown",
      "metadata": {
        "id": "exNXlY12bdLh"
      },
      "source": [
        "## Model Utils"
      ]
    },
    {
      "cell_type": "code",
      "execution_count": null,
      "metadata": {
        "id": "dn026C3LbcVi"
      },
      "outputs": [],
      "source": [
        "def get_num_conv_layers(output_width, output_height)"
      ]
    },
    {
      "cell_type": "markdown",
      "metadata": {
        "id": "BMMm1zswlE3T"
      },
      "source": [
        "## Building toy model"
      ]
    },
    {
      "cell_type": "code",
      "execution_count": null,
      "metadata": {
        "id": "b3V77Lg3lJTg"
      },
      "outputs": [],
      "source": [
        "def build_generator(num_color_channels=1):\n",
        "    print(num_color_channels)\n",
        "    generator = Sequential([\n",
        "      Dense(7*7*256, activation='relu',input_dim=len_seed), # Initial flat hidden layer\n",
        "      Reshape((7, 7, 256)), # Reshape to 7x7x256 i.e. a 7x7 image with 256 filters\n",
        "\n",
        "      UpSampling2D(), # Doubles the resolution of the representation (from 7x7x256 to 14x14x256)\n",
        "      Conv2D(256, kernel_size=3, padding='same', activation='relu'),\n",
        "\n",
        "      UpSampling2D(), # 28x28x128\n",
        "      Conv2D(128, kernel_size=3, padding='same', activation='relu'),\n",
        "\n",
        "      Conv2D(num_color_channels, kernel_size=3, padding='same') # Combine/Process 128 filters into 1 color channel\n",
        "    ])\n",
        "\n",
        "    return generator\n",
        "\n",
        "def build_discriminator():\n",
        "  image_shape = (28, 28, 1)\n",
        "\n",
        "  discriminator = Sequential([\n",
        "    Conv2D(32, kernel_size=3, input_shape=image_shape, padding='same', activation='relu'),\n",
        "    Conv2D(64, kernel_size=3, padding='same', activation='relu'),\n",
        "    Conv2D(128, kernel_size=3, padding='same', activation='relu'),\n",
        "    Conv2D(256, kernel_size=3, padding='same', activation='relu'),\n",
        "    Conv2D(512, kernel_size=3, padding='same', activation='relu'),\n",
        "    Flatten(),\n",
        "    Dense(1, activation='sigmoid')\n",
        "  ])\n",
        "\n",
        "  return discriminator"
      ]
    },
    {
      "cell_type": "markdown",
      "metadata": {
        "id": "gEVagBb6CjTU"
      },
      "source": [
        "## Building DCGAN model"
      ]
    },
    {
      "cell_type": "code",
      "execution_count": 1,
      "metadata": {
        "colab": {
          "base_uri": "https://localhost:8080/"
        },
        "id": "tm5m3bYjbKzZ",
        "outputId": "d72d9dac-1b85-44fb-ccfa-2316d29239eb"
      },
      "outputs": [
        {
          "data": {
            "text/plain": [
              "28"
            ]
          },
          "execution_count": 1,
          "metadata": {},
          "output_type": "execute_result"
        }
      ],
      "source": [
        "import math\n",
        "\n",
        "math.gcd(28, 28)"
      ]
    },
    {
      "cell_type": "code",
      "execution_count": null,
      "metadata": {
        "id": "9UWAifwDCQee"
      },
      "outputs": [],
      "source": [
        "\n",
        "\n",
        "def build_generator(num_color_channels=1, output_width, output_height):\n",
        "  num_conv_layer = get_num_conv_layers(output_width, output_height)\n",
        "\n",
        "  generator = Sequential([\n",
        "      Dense(7*7*256, activation='relu',input_dim=len_seed),\n",
        "      Reshape((7, 7, 256)), # 7x7\n",
        "\n",
        "      Conv2D(128, kernel_size=3, padding='same'),\n",
        "      BatchNormalization(momentum=0.8),\n",
        "      LeakyReLU(alpha=0),\n",
        "      UpSampling2D(), # 14x14\n",
        "\n",
        "      Conv2D(64, kernel_size=3, padding='same'),\n",
        "      BatchNormalization(momentum=0.8),\n",
        "      LeakyReLU(alpha=0),\n",
        "      UpSampling2D(), # 28x28\n",
        "\n",
        "      Conv2D(num_color_channels, kernel_size=3, padding='same')\n",
        "  ])\n",
        "  \n",
        "  return generator\n",
        "  \n",
        "def build_discriminator():\n",
        "  image_shape = (28, 28, 1)\n",
        "  discriminator = Sequential([\n",
        "      Conv2D(32, kernel_size=3, strides=2, input_shape=image_shape, padding='same'),\n",
        "      LeakyReLU(alpha=0.2),\n",
        "      Dropout(0.25),\n",
        "\n",
        "      Conv2D(64, kernel_size=3, strides=2, padding='same'),\n",
        "      BatchNormalization(momentum=0.8),\n",
        "      LeakyReLU(0.2),\n",
        "      Dropout(0.25),\n",
        "\n",
        "      Conv2D(128, kernel_size=3, strides=2, padding='same'),\n",
        "      BatchNormalization(momentum=0.8),\n",
        "      LeakyReLU(0.2),\n",
        "      Dropout(0.25),\n",
        "\n",
        "      Conv2D(256, kernel_size=3, strides=2, padding='same'),\n",
        "      BatchNormalization(momentum=0.8),\n",
        "      LeakyReLU(0.2),\n",
        "      Dropout(0.25),\n",
        "\n",
        "      Flatten(),\n",
        "      Dense(1, activation='sigmoid')\n",
        "  ])\n",
        "\n",
        "  return discriminator\n",
        "\n"
      ]
    },
    {
      "cell_type": "markdown",
      "metadata": {
        "id": "nQzZd4kCmrty"
      },
      "source": [
        "## Initialize GAN"
      ]
    },
    {
      "cell_type": "code",
      "execution_count": null,
      "metadata": {
        "colab": {
          "base_uri": "https://localhost:8080/"
        },
        "id": "ex79A0MimrFf",
        "outputId": "721fff10-4de8-4f64-aa88-f37e1e05142a"
      },
      "outputs": [
        {
          "name": "stdout",
          "output_type": "stream",
          "text": [
            "1\n"
          ]
        }
      ],
      "source": [
        "generator = build_generator(num_color_channels=1)\n",
        "discriminator = build_discriminator()"
      ]
    },
    {
      "cell_type": "markdown",
      "metadata": {
        "id": "-o-VaQBAJfvN"
      },
      "source": [
        "## Test Generator output"
      ]
    },
    {
      "cell_type": "code",
      "execution_count": null,
      "metadata": {
        "colab": {
          "base_uri": "https://localhost:8080/",
          "height": 282
        },
        "id": "qQDhYbdpJfKB",
        "outputId": "d01d9fd5-9ffb-468b-beab-8dd0c36889ab"
      },
      "outputs": [
        {
          "data": {
            "text/plain": [
              "<matplotlib.image.AxesImage at 0x7f7734a0f810>"
            ]
          },
          "execution_count": 54,
          "metadata": {},
          "output_type": "execute_result"
        },
        {
          "data": {
            "image/png": "[encoded data removed]",
            "text/plain": [
              "<Figure size 432x288 with 1 Axes>"
            ]
          },
          "metadata": {
            "needs_background": "light"
          },
          "output_type": "display_data"
        }
      ],
      "source": [
        "input_noise = tf.random.normal([1, len_seed])\n",
        "generated_image = generator(input_noise, training=False)\n",
        "plt.imshow(tf.reshape(generated_image, (28, 28)))"
      ]
    },
    {
      "cell_type": "markdown",
      "metadata": {
        "id": "eIwDzbTnKTS_"
      },
      "source": [
        "## Test Discriminator output"
      ]
    },
    {
      "cell_type": "code",
      "execution_count": null,
      "metadata": {
        "colab": {
          "base_uri": "https://localhost:8080/"
        },
        "id": "jztj9TyqKYRP",
        "outputId": "e6acc715-fc65-4093-b0bc-eb3b7ac61196"
      },
      "outputs": [
        {
          "data": {
            "text/plain": [
              "<tf.Tensor: shape=(1, 1), dtype=float32, numpy=array([[0.49996203]], dtype=float32)>"
            ]
          },
          "execution_count": 55,
          "metadata": {},
          "output_type": "execute_result"
        }
      ],
      "source": [
        "decision = discriminator(generated_image)\n",
        "decision"
      ]
    },
    {
      "cell_type": "markdown",
      "metadata": {
        "id": "ZCYMO7CPWTpM"
      },
      "source": [
        "## Model summaries"
      ]
    },
    {
      "cell_type": "markdown",
      "metadata": {
        "id": "t8849CDpWdZZ"
      },
      "source": [
        "### Generator summary"
      ]
    },
    {
      "cell_type": "code",
      "execution_count": null,
      "metadata": {
        "colab": {
          "base_uri": "https://localhost:8080/"
        },
        "id": "RQaL73ArWZs7",
        "outputId": "f3e85958-1e4d-43c1-ed3a-4b732d527ba5"
      },
      "outputs": [
        {
          "name": "stdout",
          "output_type": "stream",
          "text": [
            "Model: \"sequential_6\"\n",
            "_________________________________________________________________\n",
            " Layer (type)                Output Shape              Param #   \n",
            "=================================================================\n",
            " dense_6 (Dense)             (None, 12544)             62720     \n",
            "                                                                 \n",
            " reshape_3 (Reshape)         (None, 7, 7, 256)         0         \n",
            "                                                                 \n",
            " up_sampling2d_6 (UpSampling  (None, 14, 14, 256)      0         \n",
            " 2D)                                                             \n",
            "                                                                 \n",
            " conv2d_23 (Conv2D)          (None, 14, 14, 256)       590080    \n",
            "                                                                 \n",
            " up_sampling2d_7 (UpSampling  (None, 28, 28, 256)      0         \n",
            " 2D)                                                             \n",
            "                                                                 \n",
            " conv2d_24 (Conv2D)          (None, 28, 28, 128)       295040    \n",
            "                                                                 \n",
            " conv2d_25 (Conv2D)          (None, 28, 28, 1)         1153      \n",
            "                                                                 \n",
            "=================================================================\n",
            "Total params: 948,993\n",
            "Trainable params: 948,993\n",
            "Non-trainable params: 0\n",
            "_________________________________________________________________\n"
          ]
        }
      ],
      "source": [
        "generator.summary()"
      ]
    },
    {
      "cell_type": "markdown",
      "metadata": {
        "id": "5f2s-cCZWW5-"
      },
      "source": [
        "### Discriminator summary"
      ]
    },
    {
      "cell_type": "code",
      "execution_count": null,
      "metadata": {
        "colab": {
          "base_uri": "https://localhost:8080/"
        },
        "id": "jy42xUvpWd-r",
        "outputId": "20e68c07-1607-4f16-c5ad-1710c3676cb9"
      },
      "outputs": [
        {
          "name": "stdout",
          "output_type": "stream",
          "text": [
            "Model: \"sequential_7\"\n",
            "_________________________________________________________________\n",
            " Layer (type)                Output Shape              Param #   \n",
            "=================================================================\n",
            " conv2d_26 (Conv2D)          (None, 28, 28, 32)        320       \n",
            "                                                                 \n",
            " conv2d_27 (Conv2D)          (None, 28, 28, 64)        18496     \n",
            "                                                                 \n",
            " conv2d_28 (Conv2D)          (None, 28, 28, 128)       73856     \n",
            "                                                                 \n",
            " conv2d_29 (Conv2D)          (None, 28, 28, 256)       295168    \n",
            "                                                                 \n",
            " conv2d_30 (Conv2D)          (None, 28, 28, 512)       1180160   \n",
            "                                                                 \n",
            " flatten_3 (Flatten)         (None, 401408)            0         \n",
            "                                                                 \n",
            " dense_7 (Dense)             (None, 1)                 401409    \n",
            "                                                                 \n",
            "=================================================================\n",
            "Total params: 1,969,409\n",
            "Trainable params: 1,969,409\n",
            "Non-trainable params: 0\n",
            "_________________________________________________________________\n"
          ]
        }
      ],
      "source": [
        "discriminator.summary()"
      ]
    },
    {
      "cell_type": "markdown",
      "metadata": {
        "id": "8q0p0FcfKrfd"
      },
      "source": [
        "## Loss Functions"
      ]
    },
    {
      "cell_type": "markdown",
      "metadata": {
        "id": "2ViViqr3LDHW"
      },
      "source": [
        "### Imports"
      ]
    },
    {
      "cell_type": "code",
      "execution_count": null,
      "metadata": {
        "id": "Eq1hmld0KtiB"
      },
      "outputs": [],
      "source": [
        "from typing import BinaryIO\n",
        "from tensorflow.keras.losses import BinaryCrossentropy"
      ]
    },
    {
      "cell_type": "markdown",
      "metadata": {
        "id": "c7J5Q3TrLsCr"
      },
      "source": [
        "### Generator loss"
      ]
    },
    {
      "cell_type": "code",
      "execution_count": null,
      "metadata": {
        "id": "5ksjzNzQdT9g"
      },
      "outputs": [],
      "source": [
        "binary_cross_entropy = BinaryCrossentropy(from_logits=True)"
      ]
    },
    {
      "cell_type": "code",
      "execution_count": null,
      "metadata": {
        "id": "RcUWny1NLs5e"
      },
      "outputs": [],
      "source": [
        "def generator_loss(y_pred_fake):\n",
        "  return binary_cross_entropy(tf.ones_like(y_pred_fake), y_pred_fake)"
      ]
    },
    {
      "cell_type": "markdown",
      "metadata": {
        "id": "L9HwkwvILsn3"
      },
      "source": [
        "### Discriminator loss"
      ]
    },
    {
      "cell_type": "code",
      "execution_count": null,
      "metadata": {
        "id": "VYpLzHjpLsWN"
      },
      "outputs": [],
      "source": [
        "def discriminator_loss(y_pred_real, y_pred_fake):\n",
        "  real_loss = binary_cross_entropy(tf.ones_like(y_pred_real), y_pred_real)\n",
        "  fake_loss = binary_cross_entropy(tf.zeros_like(y_pred_fake), y_pred_fake)\n",
        "  return real_loss + fake_loss"
      ]
    },
    {
      "cell_type": "markdown",
      "metadata": {
        "id": "ktnf9ZgoL3aH"
      },
      "source": [
        "## Optimizers"
      ]
    },
    {
      "cell_type": "markdown",
      "metadata": {
        "id": "emZF-rZ7L8e3"
      },
      "source": [
        "### Imports"
      ]
    },
    {
      "cell_type": "code",
      "execution_count": null,
      "metadata": {
        "id": "UAFogNbwL6fL"
      },
      "outputs": [],
      "source": [
        "from tensorflow.keras.optimizers import Adam"
      ]
    },
    {
      "cell_type": "markdown",
      "metadata": {
        "id": "pBtR6jf6L8-Y"
      },
      "source": [
        "### Generator optimizer"
      ]
    },
    {
      "cell_type": "code",
      "execution_count": null,
      "metadata": {
        "id": "ygrMNNJmL9UD"
      },
      "outputs": [],
      "source": [
        "generator_optimizer = Adam(0.0002, 0.5) # Recommended values from DCGAN paper"
      ]
    },
    {
      "cell_type": "markdown",
      "metadata": {
        "id": "HAMvCkq5L9o5"
      },
      "source": [
        "### Discriminator optimizer"
      ]
    },
    {
      "cell_type": "code",
      "execution_count": null,
      "metadata": {
        "id": "iju9C-oGMGO7"
      },
      "outputs": [],
      "source": [
        "discriminator_optimizer = Adam(0.0002, 0.5)"
      ]
    },
    {
      "cell_type": "markdown",
      "metadata": {
        "id": "Jqxq6hvORST9"
      },
      "source": [
        "## Set up checkpoint"
      ]
    },
    {
      "cell_type": "code",
      "execution_count": null,
      "metadata": {
        "id": "oR9fbtbIRRir"
      },
      "outputs": [],
      "source": [
        "import os\n",
        "\n",
        "checkpoint_dir = './training_checkpoints'\n",
        "checkpoint_prefix = os.path.join(checkpoint_dir, \"ckpt\")\n",
        "checkpoint = tf.train.Checkpoint(generator_optimizer=generator_optimizer,\n",
        "                                 discriminator_optimizer=discriminator_optimizer,\n",
        "                                 generator=generator,\n",
        "                                 discriminator=discriminator)"
      ]
    },
    {
      "cell_type": "markdown",
      "metadata": {
        "id": "kQhSfyoKMx_j"
      },
      "source": [
        "## Training function"
      ]
    },
    {
      "cell_type": "markdown",
      "metadata": {
        "id": "p_nYlGFNQXvc"
      },
      "source": [
        "### Imports"
      ]
    },
    {
      "cell_type": "code",
      "execution_count": null,
      "metadata": {
        "id": "_-o-Jjp0QYIM"
      },
      "outputs": [],
      "source": [
        "import time\n",
        "from IPython import display"
      ]
    },
    {
      "cell_type": "markdown",
      "metadata": {
        "id": "-jHVg8OTSGHG"
      },
      "source": [
        "### Training function definitions"
      ]
    },
    {
      "cell_type": "code",
      "execution_count": null,
      "metadata": {
        "id": "zKa8H8zgP0Vs"
      },
      "outputs": [],
      "source": [
        "# @tf.function\n",
        "def train_step(real_image_batch, batch_size):\n",
        "  input_noise_seeds = tf.random.normal([batch_size, len_seed])\n",
        "\n",
        "  with tf.GradientTape() as gen_tape, tf.GradientTape() as disc_tape:\n",
        "    generated_image_batch = generator(input_noise_seeds, training=True)\n",
        "\n",
        "    y_pred_real = discriminator(real_image_batch, training=True)\n",
        "    y_pred_fake = discriminator(generated_image_batch, training=True)\n",
        "\n",
        "    gen_loss = generator_loss(y_pred_fake)\n",
        "    disc_loss = discriminator_loss(y_pred_real, y_pred_fake)\n",
        "\n",
        "    print(f'Generator loss: {gen_loss}, Discriminator loss: {disc_loss}', end='\\r')\n",
        "\n",
        "    generator_gradient = gen_tape.gradient(gen_loss, generator.trainable_variables)\n",
        "    discriminator_gradient = disc_tape.gradient(disc_loss, discriminator.trainable_variables)\n",
        "\n",
        "    generator_optimizer.apply_gradients(zip(generator_gradient, generator.trainable_variables))\n",
        "    discriminator_optimizer.apply_gradients(zip(discriminator_gradient, discriminator.trainable_variables))\n",
        "\n",
        "    return gen_loss, disc_loss\n"
      ]
    },
    {
      "cell_type": "code",
      "execution_count": null,
      "metadata": {
        "id": "0JmgF8OCM1F5"
      },
      "outputs": [],
      "source": [
        "def train(dataset, epochs, batch_size, num_test_seeds):\n",
        "  if not (len(dataset) / batch_size).is_integer():\n",
        "    print('Batch size not compatible with dataset size')\n",
        "    return\n",
        "\n",
        "  if num_test_seeds < 1:\n",
        "    print('Number of test seeds invalid (must be > 0)')\n",
        "    return\n",
        "  \n",
        "  test_seeds = tf.random.normal([num_test_seeds, len_seed])\n",
        "\n",
        "  # Assumes that the dataset has already been preprocessed\n",
        "  # Expected dataset shape (num_instances, width, height, color_channels)\n",
        "  num_images = len(dataset)\n",
        "\n",
        "  for epoch in range(epochs):\n",
        "    \n",
        "    start = time.time()\n",
        "    gen_loss, disc_loss = None, None\n",
        "    for i in range(len(dataset)//batch_size):\n",
        "      display.clear_output(wait=True)\n",
        "      real_image_batch = dataset[i * batch_size : (i + 1) * batch_size]\n",
        "      print(f'Loss for previous batch #{i}: Generator loss = {gen_loss}, Discriminator loss = {disc_loss}')\n",
        "      print(f'Epoch # {epoch + 1}/{epochs}')\n",
        "      print(f'Batch # {i}/{len(dataset)//batch_size}')\n",
        "      gen_loss, disc_loss = train_step(real_image_batch, batch_size)\n",
        "      \n",
        "    generate_and_save_images(generator, epoch + 1, test_seeds)\n",
        "\n",
        "    if (epoch + 1) % 15 == 0:\n",
        "      checkpoint.save(file_prefix=checkpoint_prefix)\n",
        "\n",
        "    print(f'Time for epoch {epoch + 1} is {time.time()-start} sec')\n",
        "  \n",
        "  display.clear_output(wait=True)\n",
        "  generate_and_save_images(generator, epochs, test_seeds)"
      ]
    },
    {
      "cell_type": "code",
      "execution_count": null,
      "metadata": {
        "id": "i8eeC-bBRRIo"
      },
      "outputs": [],
      "source": [
        "def generate_and_save_images(model, epoch, test_seeds):\n",
        "  # Notice `training` is set to False.\n",
        "  # This is so all layers run in inference mode (batchnorm).\n",
        "  predictions = model(test_seeds, training=False)\n",
        "\n",
        "  fig = plt.figure(figsize=(4, 4))\n",
        "\n",
        "  for i in range(predictions.shape[0]):\n",
        "      plt.subplot(4, 4, i+1)\n",
        "      plt.imshow(predictions[i, :, :, 0] * 127.5 + 127.5, cmap='gray')\n",
        "      plt.axis('off')\n",
        "\n",
        "  plt.savefig('image_at_epoch_{:04d}.png'.format(epoch))\n",
        "  plt.show()"
      ]
    },
    {
      "cell_type": "markdown",
      "metadata": {
        "id": "opeNi6KcSAAw"
      },
      "source": [
        "## Training the model"
      ]
    },
    {
      "cell_type": "code",
      "execution_count": null,
      "metadata": {
        "colab": {
          "base_uri": "https://localhost:8080/",
          "height": 265
        },
        "id": "ohj2NRSQR6As",
        "outputId": "4a496e3c-e057-4f40-f073-5bedb8a42134"
      },
      "outputs": [
        {
          "data": {
            "image/png": "[encoded data removed]",
            "text/plain": [
              "<Figure size 288x288 with 16 Axes>"
            ]
          },
          "metadata": {
            "needs_background": "light"
          },
          "output_type": "display_data"
        },
        {
          "name": "stdout",
          "output_type": "stream",
          "text": [
            "Total training time (in seconds): 40.62494087219238\n"
          ]
        }
      ],
      "source": [
        "start = time.time()\n",
        "train(training_data, epochs=1, batch_size=125, num_test_seeds=16)\n",
        "end = time.time()\n",
        "print(f'Total training time (in seconds): {end - start}')"
      ]
    },
    {
      "cell_type": "code",
      "execution_count": null,
      "metadata": {
        "id": "unoIXkwMym4z"
      },
      "outputs": [],
      "source": []
    },
    {
      "cell_type": "code",
      "execution_count": null,
      "metadata": {
        "colab": {
          "base_uri": "https://localhost:8080/"
        },
        "id": "SY7y_hPobHkh",
        "outputId": "da489885-8605-4533-e29b-9a1cc0daf34c"
      },
      "outputs": [
        {
          "data": {
            "text/plain": [
              "(70000, 28, 28, 1)"
            ]
          },
          "execution_count": 38,
          "metadata": {},
          "output_type": "execute_result"
        }
      ],
      "source": [
        "training_data.shape"
      ]
    },
    {
      "cell_type": "code",
      "execution_count": null,
      "metadata": {
        "colab": {
          "base_uri": "https://localhost:8080/",
          "height": 730
        },
        "id": "dfBFpA4G4sK2",
        "outputId": "b43a5ffb-3239-4eaf-c98e-dedb8b002dc3"
      },
      "outputs": [
        {
          "name": "stderr",
          "output_type": "stream",
          "text": [
            "WARNING:tensorflow:Model was constructed with shape (None, 4) for input KerasTensor(type_spec=TensorSpec(shape=(None, 4), dtype=tf.float32, name='dense_8_input'), name='dense_8_input', description=\"created by layer 'dense_8_input'\"), but it was called on an input with incompatible shape (None,).\n"
          ]
        },
        {
          "ename": "ValueError",
          "evalue": "ignored",
          "output_type": "error",
          "traceback": [
            "\u001b[0;31m---------------------------------------------------------------------------\u001b[0m",
            "\u001b[0;31mValueError\u001b[0m                                Traceback (most recent call last)",
            "\u001b[0;32m<ipython-input-81-9e597a99c0a7>\u001b[0m in \u001b[0;36m<module>\u001b[0;34m\u001b[0m\n\u001b[0;32m----> 1\u001b[0;31m \u001b[0mgenerator\u001b[0m\u001b[0;34m.\u001b[0m\u001b[0mpredict\u001b[0m\u001b[0;34m(\u001b[0m\u001b[0mtf\u001b[0m\u001b[0;34m.\u001b[0m\u001b[0mrandom\u001b[0m\u001b[0;34m.\u001b[0m\u001b[0mnormal\u001b[0m\u001b[0;34m(\u001b[0m\u001b[0;34m[\u001b[0m\u001b[0;36m4\u001b[0m\u001b[0;34m,\u001b[0m\u001b[0;34m]\u001b[0m\u001b[0;34m)\u001b[0m\u001b[0;34m)\u001b[0m\u001b[0;34m\u001b[0m\u001b[0;34m\u001b[0m\u001b[0m\n\u001b[0m",
            "\u001b[0;32m/usr/local/lib/python3.7/dist-packages/keras/utils/traceback_utils.py\u001b[0m in \u001b[0;36merror_handler\u001b[0;34m(*args, **kwargs)\u001b[0m\n\u001b[1;32m     65\u001b[0m     \u001b[0;32mexcept\u001b[0m \u001b[0mException\u001b[0m \u001b[0;32mas\u001b[0m \u001b[0me\u001b[0m\u001b[0;34m:\u001b[0m  \u001b[0;31m# pylint: disable=broad-except\u001b[0m\u001b[0;34m\u001b[0m\u001b[0;34m\u001b[0m\u001b[0m\n\u001b[1;32m     66\u001b[0m       \u001b[0mfiltered_tb\u001b[0m \u001b[0;34m=\u001b[0m \u001b[0m_process_traceback_frames\u001b[0m\u001b[0;34m(\u001b[0m\u001b[0me\u001b[0m\u001b[0;34m.\u001b[0m\u001b[0m__traceback__\u001b[0m\u001b[0;34m)\u001b[0m\u001b[0;34m\u001b[0m\u001b[0;34m\u001b[0m\u001b[0m\n\u001b[0;32m---> 67\u001b[0;31m       \u001b[0;32mraise\u001b[0m \u001b[0me\u001b[0m\u001b[0;34m.\u001b[0m\u001b[0mwith_traceback\u001b[0m\u001b[0;34m(\u001b[0m\u001b[0mfiltered_tb\u001b[0m\u001b[0;34m)\u001b[0m \u001b[0;32mfrom\u001b[0m \u001b[0;32mNone\u001b[0m\u001b[0;34m\u001b[0m\u001b[0;34m\u001b[0m\u001b[0m\n\u001b[0m\u001b[1;32m     68\u001b[0m     \u001b[0;32mfinally\u001b[0m\u001b[0;34m:\u001b[0m\u001b[0;34m\u001b[0m\u001b[0;34m\u001b[0m\u001b[0m\n\u001b[1;32m     69\u001b[0m       \u001b[0;32mdel\u001b[0m \u001b[0mfiltered_tb\u001b[0m\u001b[0;34m\u001b[0m\u001b[0;34m\u001b[0m\u001b[0m\n",
            "\u001b[0;32m/usr/local/lib/python3.7/dist-packages/keras/engine/training.py\u001b[0m in \u001b[0;36mtf__predict_function\u001b[0;34m(iterator)\u001b[0m\n\u001b[1;32m     13\u001b[0m                 \u001b[0;32mtry\u001b[0m\u001b[0;34m:\u001b[0m\u001b[0;34m\u001b[0m\u001b[0;34m\u001b[0m\u001b[0m\n\u001b[1;32m     14\u001b[0m                     \u001b[0mdo_return\u001b[0m \u001b[0;34m=\u001b[0m \u001b[0;32mTrue\u001b[0m\u001b[0;34m\u001b[0m\u001b[0;34m\u001b[0m\u001b[0m\n\u001b[0;32m---> 15\u001b[0;31m                     \u001b[0mretval_\u001b[0m \u001b[0;34m=\u001b[0m \u001b[0mag__\u001b[0m\u001b[0;34m.\u001b[0m\u001b[0mconverted_call\u001b[0m\u001b[0;34m(\u001b[0m\u001b[0mag__\u001b[0m\u001b[0;34m.\u001b[0m\u001b[0mld\u001b[0m\u001b[0;34m(\u001b[0m\u001b[0mstep_function\u001b[0m\u001b[0;34m)\u001b[0m\u001b[0;34m,\u001b[0m \u001b[0;34m(\u001b[0m\u001b[0mag__\u001b[0m\u001b[0;34m.\u001b[0m\u001b[0mld\u001b[0m\u001b[0;34m(\u001b[0m\u001b[0mself\u001b[0m\u001b[0;34m)\u001b[0m\u001b[0;34m,\u001b[0m \u001b[0mag__\u001b[0m\u001b[0;34m.\u001b[0m\u001b[0mld\u001b[0m\u001b[0;34m(\u001b[0m\u001b[0miterator\u001b[0m\u001b[0;34m)\u001b[0m\u001b[0;34m)\u001b[0m\u001b[0;34m,\u001b[0m \u001b[0;32mNone\u001b[0m\u001b[0;34m,\u001b[0m \u001b[0mfscope\u001b[0m\u001b[0;34m)\u001b[0m\u001b[0;34m\u001b[0m\u001b[0;34m\u001b[0m\u001b[0m\n\u001b[0m\u001b[1;32m     16\u001b[0m                 \u001b[0;32mexcept\u001b[0m\u001b[0;34m:\u001b[0m\u001b[0;34m\u001b[0m\u001b[0;34m\u001b[0m\u001b[0m\n\u001b[1;32m     17\u001b[0m                     \u001b[0mdo_return\u001b[0m \u001b[0;34m=\u001b[0m \u001b[0;32mFalse\u001b[0m\u001b[0;34m\u001b[0m\u001b[0;34m\u001b[0m\u001b[0m\n",
            "\u001b[0;31mValueError\u001b[0m: in user code:\n\n    File \"/usr/local/lib/python3.7/dist-packages/keras/engine/training.py\", line 1845, in predict_function  *\n        return step_function(self, iterator)\n    File \"/usr/local/lib/python3.7/dist-packages/keras/engine/training.py\", line 1834, in step_function  **\n        outputs = model.distribute_strategy.run(run_step, args=(data,))\n    File \"/usr/local/lib/python3.7/dist-packages/keras/engine/training.py\", line 1823, in run_step  **\n        outputs = model.predict_step(data)\n    File \"/usr/local/lib/python3.7/dist-packages/keras/engine/training.py\", line 1791, in predict_step\n        return self(x, training=False)\n    File \"/usr/local/lib/python3.7/dist-packages/keras/utils/traceback_utils.py\", line 67, in error_handler\n        raise e.with_traceback(filtered_tb) from None\n    File \"/usr/local/lib/python3.7/dist-packages/keras/engine/input_spec.py\", line 228, in assert_input_compatibility\n        raise ValueError(f'Input {input_index} of layer \"{layer_name}\" '\n\n    ValueError: Exception encountered when calling layer \"sequential_8\" (type Sequential).\n    \n    Input 0 of layer \"dense_8\" is incompatible with the layer: expected min_ndim=2, found ndim=1. Full shape received: (None,)\n    \n    Call arguments received by layer \"sequential_8\" (type Sequential):\n      • inputs=tf.Tensor(shape=(None,), dtype=float32)\n      • training=False\n      • mask=None\n"
          ]
        }
      ],
      "source": [
        "generator.predict(tf.random.normal([4,]))"
      ]
    },
    {
      "cell_type": "markdown",
      "metadata": {
        "id": "l0dTItk4sNNX"
      },
      "source": [
        "## Saving the model"
      ]
    },
    {
      "cell_type": "code",
      "execution_count": null,
      "metadata": {
        "colab": {
          "base_uri": "https://localhost:8080/"
        },
        "id": "T4tn9hP1bMQj",
        "outputId": "71d91555-b1b0-4c08-e05b-627538baa9fe"
      },
      "outputs": [
        {
          "name": "stderr",
          "output_type": "stream",
          "text": [
            "WARNING:tensorflow:Compiled the loaded model, but the compiled metrics have yet to be built. `model.compile_metrics` will be empty until you train or evaluate the model.\n",
            "WARNING:absl:Found untraced functions such as _jit_compiled_convolution_op, _jit_compiled_convolution_op, _jit_compiled_convolution_op while saving (showing 3 of 3). These functions will not be directly callable after loading.\n"
          ]
        }
      ],
      "source": [
        "generator.save('./models/generator')"
      ]
    },
    {
      "cell_type": "code",
      "execution_count": null,
      "metadata": {
        "colab": {
          "base_uri": "https://localhost:8080/"
        },
        "id": "zcvCZwovuyx1",
        "outputId": "e976e705-4bec-47af-b6ac-bc1a54ee161c"
      },
      "outputs": [
        {
          "name": "stderr",
          "output_type": "stream",
          "text": [
            "WARNING:tensorflow:Compiled the loaded model, but the compiled metrics have yet to be built. `model.compile_metrics` will be empty until you train or evaluate the model.\n",
            "WARNING:absl:Found untraced functions such as _jit_compiled_convolution_op, _jit_compiled_convolution_op, _jit_compiled_convolution_op, _jit_compiled_convolution_op, _jit_compiled_convolution_op while saving (showing 5 of 5). These functions will not be directly callable after loading.\n"
          ]
        }
      ],
      "source": [
        "discriminator.save('./models/discriminator')"
      ]
    },
    {
      "cell_type": "markdown",
      "metadata": {
        "id": "TVnFQ6qY4Hzx"
      },
      "source": [
        "## Download folder"
      ]
    },
    {
      "cell_type": "code",
      "execution_count": null,
      "metadata": {
        "colab": {
          "base_uri": "https://localhost:8080/"
        },
        "id": "SMm5sl1h4GSF",
        "outputId": "3d177747-2f22-40c7-a4f8-8d6242746213"
      },
      "outputs": [
        {
          "name": "stdout",
          "output_type": "stream",
          "text": [
            "tar: toy_model_batch_processing: Cannot stat: No such file or directory\n",
            "tar: Exiting with failure status due to previous errors\n"
          ]
        }
      ],
      "source": [
        "!tar cvf toy_model_batch_processing.tgz toy_model_batch_processing/"
      ]
    },
    {
      "cell_type": "code",
      "execution_count": null,
      "metadata": {
        "colab": {
          "base_uri": "https://localhost:8080/"
        },
        "id": "cXIP1IJQqOmz",
        "outputId": "79e74bf3-babe-453d-8d42-479dc3d373c2"
      },
      "outputs": [
        {
          "name": "stdout",
          "output_type": "stream",
          "text": [
            "./models/generator/\n",
            "./models/generator/keras_metadata.pb\n",
            "./models/generator/assets/\n",
            "./models/generator/variables/\n",
            "./models/generator/variables/variables.index\n",
            "./models/generator/variables/variables.data-00000-of-00001\n",
            "./models/generator/saved_model.pb\n"
          ]
        }
      ],
      "source": [
        "!tar cvf generator.tgz ./models/generator"
      ]
    }
  ],
  "metadata": {
    "accelerator": "GPU",
    "colab": {
      "collapsed_sections": [
        "Fr_WAoneq4FU",
        "iWLYMeV3OUTi",
        "goAOESttASVk",
        "geLJF66MAW1P",
        "h4IhJUTRAj2D",
        "pOvr5CE5BVts",
        "utMLnUc2DMpS",
        "nQzZd4kCmrty",
        "-o-VaQBAJfvN",
        "eIwDzbTnKTS_",
        "ZCYMO7CPWTpM",
        "8q0p0FcfKrfd",
        "ktnf9ZgoL3aH",
        "emZF-rZ7L8e3",
        "pBtR6jf6L8-Y",
        "HAMvCkq5L9o5",
        "Jqxq6hvORST9",
        "kQhSfyoKMx_j",
        "p_nYlGFNQXvc",
        "-jHVg8OTSGHG",
        "l0dTItk4sNNX"
      ],
      "machine_shape": "hm",
      "provenance": []
    },
    "gpuClass": "premium",
    "kernelspec": {
      "display_name": "Python 3",
      "language": "python",
      "name": "python3"
    },
    "language_info": {
      "codemirror_mode": {
        "name": "ipython",
        "version": 3
      },
      "file_extension": ".py",
      "mimetype": "text/x-python",
      "name": "python",
      "nbconvert_exporter": "python",
      "pygments_lexer": "ipython3",
      "version": "3.7.15"
    }
  },
  "nbformat": 4,
  "nbformat_minor": 0
}
