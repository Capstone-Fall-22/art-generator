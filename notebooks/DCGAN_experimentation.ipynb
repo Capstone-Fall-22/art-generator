{
  "cells": [
    {
      "cell_type": "markdown",
      "metadata": {
        "id": "T0BPfhsV_6-n"
      },
      "source": [
        "# DCGAN\n",
        "### This notebook contains an implementation of the model described [here](https://arxiv.org/abs/1511.06434)"
      ]
    },
    {
      "cell_type": "markdown",
      "metadata": {
        "id": "2QAGphavwpww"
      },
      "source": [
        "## Notebook resources"
      ]
    },
    {
      "cell_type": "code",
      "execution_count": 2,
      "metadata": {
        "colab": {
          "base_uri": "https://localhost:8080/"
        },
        "id": "cZxTdUcewpKU",
        "outputId": "3335cb02-0f28-4a18-bf9f-0dbce2f1aacd"
      },
      "outputs": [
        {
          "name": "stdout",
          "output_type": "stream",
          "text": [
            "Wed Nov  2 16:04:09 2022       \n",
            "+-----------------------------------------------------------------------------+\n",
            "| NVIDIA-SMI 460.32.03    Driver Version: 460.32.03    CUDA Version: 11.2     |\n",
            "|-------------------------------+----------------------+----------------------+\n",
            "| GPU  Name        Persistence-M| Bus-Id        Disp.A | Volatile Uncorr. ECC |\n",
            "| Fan  Temp  Perf  Pwr:Usage/Cap|         Memory-Usage | GPU-Util  Compute M. |\n",
            "|                               |                      |               MIG M. |\n",
            "|===============================+======================+======================|\n",
            "|   0  Tesla T4            Off  | 00000000:00:04.0 Off |                    0 |\n",
            "| N/A   35C    P8     9W /  70W |      0MiB / 15109MiB |      0%      Default |\n",
            "|                               |                      |                  N/A |\n",
            "+-------------------------------+----------------------+----------------------+\n",
            "                                                                               \n",
            "+-----------------------------------------------------------------------------+\n",
            "| Processes:                                                                  |\n",
            "|  GPU   GI   CI        PID   Type   Process name                  GPU Memory |\n",
            "|        ID   ID                                                   Usage      |\n",
            "|=============================================================================|\n",
            "|  No running processes found                                                 |\n",
            "+-----------------------------------------------------------------------------+\n",
            "Your runtime has 27.3 gigabytes of available RAM\n",
            "\n",
            "You are using a high-RAM runtime!\n"
          ]
        }
      ],
      "source": [
        "gpu_info = !nvidia-smi\n",
        "gpu_info = '\\n'.join(gpu_info)\n",
        "if gpu_info.find('failed') >= 0:\n",
        "  print('Not connected to a GPU')\n",
        "else:\n",
        "  print(gpu_info)\n",
        "\n",
        "from psutil import virtual_memory\n",
        "ram_gb = virtual_memory().total / 1e9\n",
        "print('Your runtime has {:.1f} gigabytes of available RAM\\n'.format(ram_gb))\n",
        "\n",
        "if ram_gb < 20:\n",
        "  print('Not using a high-RAM runtime')\n",
        "else:\n",
        "  print('You are using a high-RAM runtime!')\n",
        "  "
      ]
    },
    {
      "cell_type": "markdown",
      "metadata": {},
      "source": [
        "## Launch remote Jupyter server"
      ]
    },
    {
      "cell_type": "code",
      "execution_count": 3,
      "metadata": {},
      "outputs": [
        {
          "name": "stdout",
          "output_type": "stream",
          "text": [
            "nohup: appending output to 'nohup.out'\n"
          ]
        }
      ],
      "source": [
        "# Install jupyterlab and ngrok\n",
        "!pip install jupyterlab==2.2.9 pyngrok python-dotenv -q\n",
        "\n",
        "# Run jupyterlab in background\n",
        "!nohup jupyter lab --ip=0.0.0.0 &"
      ]
    },
    {
      "cell_type": "markdown",
      "metadata": {
        "id": "iWLYMeV3OUTi"
      },
      "source": [
        "## Defining constants"
      ]
    },
    {
      "cell_type": "code",
      "execution_count": 4,
      "metadata": {
        "id": "4c6SVnwxOZTo"
      },
      "outputs": [],
      "source": [
        "len_seed = 100 # How many elements in seed vector, 100 was used in DCGAN paper"
      ]
    },
    {
      "cell_type": "markdown",
      "metadata": {
        "id": "1Hv56JfLAKF4"
      },
      "source": [
        "## Loading and preprocessing datasets"
      ]
    },
    {
      "cell_type": "markdown",
      "metadata": {
        "id": "goAOESttASVk"
      },
      "source": [
        "### Imports"
      ]
    },
    {
      "cell_type": "code",
      "execution_count": 5,
      "metadata": {
        "id": "U0Ua1qFUARwI"
      },
      "outputs": [],
      "source": [
        "import os\n",
        "import numpy as np\n",
        "import matplotlib.pyplot as plt\n",
        "from concurrent.futures import ThreadPoolExecutor\n",
        "import tensorflow as tf\n",
        "from tensorflow.keras.datasets import mnist\n",
        "from tensorflow.keras.utils import image_dataset_from_directory\n"
      ]
    },
    {
      "cell_type": "markdown",
      "metadata": {
        "id": "geLJF66MAW1P"
      },
      "source": [
        "### Loading data and Preprocessing\n",
        "* Reshape the dataset to (dataset Size, height, width, color channels)\n",
        "\n"
      ]
    },
    {
      "cell_type": "markdown",
      "metadata": {},
      "source": [
        "### MNIST"
      ]
    },
    {
      "cell_type": "code",
      "execution_count": 6,
      "metadata": {
        "colab": {
          "base_uri": "https://localhost:8080/"
        },
        "id": "ECOj5kxN_uBH",
        "outputId": "ad296cf3-2f8c-4ef4-8136-30eacf35578a"
      },
      "outputs": [
        {
          "name": "stdout",
          "output_type": "stream",
          "text": [
            "training_data shape: (70000, 28, 28)\n",
            "X_train shape: (60000, 28, 28)\n",
            "y_train shape: (60000,)\n",
            "X_test shape: (10000, 28, 28)\n",
            "y_test shape: (10000,)\n"
          ]
        }
      ],
      "source": [
        "(X_train, y_train), (X_test, y_test) = mnist.load_data()\n",
        "\n",
        "training_data = np.concatenate((X_train, X_test))\n",
        "\n",
        "print(f'training_data shape: {training_data.shape}')\n",
        "print(f'X_train shape: {X_train.shape}')\n",
        "print(f'y_train shape: {y_train.shape}')\n",
        "print(f'X_test shape: {X_test.shape}')\n",
        "print(f'y_test shape: {y_test.shape}')\n",
        "\n",
        "training_data = training_data / 127.5 - 1 # Scale image pixels to [-1, 1]\n",
        "training_data = np.reshape(training_data, (-1, 28, 28, 1))\n",
        "np.random.shuffle(training_data) # Randomize order of images\n",
        "training_data.shape"
      ]
    },
    {
      "cell_type": "markdown",
      "metadata": {},
      "source": [
        "### Self-compiled Dataset"
      ]
    },
    {
      "cell_type": "code",
      "execution_count": 5,
      "metadata": {},
      "outputs": [
        {
          "name": "stdout",
          "output_type": "stream",
          "text": [
            "Found 12007 files belonging to 1 classes.\n"
          ]
        }
      ],
      "source": [
        "def preprocess(image):\n",
        "    image = tf.cast(image / 127.5 - 1, tf.float32)\n",
        "    return image\n",
        "\n",
        "training_data = image_dataset_from_directory(\n",
        "    '/content/dataset',\n",
        "    labels=None,\n",
        "    color_mode='rgb',\n",
        "    image_size=(720, 1280),\n",
        "    shuffle=True,\n",
        ")\n",
        "\n",
        "training_data.map(preprocess)"
      ]
    },
    {
      "cell_type": "markdown",
      "metadata": {
        "id": "pOvr5CE5BVts"
      },
      "source": [
        "### Training image preview"
      ]
    },
    {
      "cell_type": "code",
      "execution_count": 69,
      "metadata": {
        "id": "HctesIuABU7U"
      },
      "outputs": [],
      "source": [
        "def display_images(images):\n",
        "  # Max number of images is 24\n",
        "  if len(images) > 24:\n",
        "    return\n",
        "\n",
        "  fig = plt.figure(figsize=(8,8))\n",
        "  columns = 6\n",
        "  rows = 4\n",
        "  for i in range(len(images)):\n",
        "    fig.add_subplot(rows, columns, i + 1)\n",
        "    plt.imshow(images[i].reshape(28,28))"
      ]
    },
    {
      "cell_type": "code",
      "execution_count": 94,
      "metadata": {
        "colab": {
          "base_uri": "https://localhost:8080/"
        },
        "id": "JeWNzRBDI2oM",
        "outputId": "eed3b47a-895f-4888-8bb9-93d5ce51e1f7"
      },
      "outputs": [
        {
          "data": {
            "image/png": "[encoded data removed]",
            "text/plain": [
              "<Figure size 576x576 with 24 Axes>"
            ]
          },
          "metadata": {
            "needs_background": "light"
          },
          "output_type": "display_data"
        }
      ],
      "source": [
        "display_images(training_data[:24])"
      ]
    },
    {
      "cell_type": "markdown",
      "metadata": {
        "id": "utMLnUc2DMpS"
      },
      "source": [
        "## Imports for building models"
      ]
    },
    {
      "cell_type": "code",
      "execution_count": 73,
      "metadata": {
        "id": "CVw4W4DvDMTN"
      },
      "outputs": [],
      "source": [
        "import tensorflow as tf\n",
        "from tensorflow.keras.models import Sequential\n",
        "from tensorflow.keras.layers import Input, Dense, Reshape, UpSampling2D, Conv2D, Conv2DTranspose, Flatten, Dropout, LeakyReLU, BatchNormalization, ZeroPadding2D"
      ]
    },
    {
      "cell_type": "markdown",
      "metadata": {
        "id": "exNXlY12bdLh"
      },
      "source": [
        "## Model Utils"
      ]
    },
    {
      "cell_type": "code",
      "execution_count": 74,
      "metadata": {
        "id": "dn026C3LbcVi"
      },
      "outputs": [],
      "source": [
        "def get_dcgan_specs(width, height):\n",
        "    '''\n",
        "    num_hidden_conv_layers:\n",
        "        Equal to number of times we can evenly divide the width and height by 2.\n",
        "        This is done this way since we use upsampling in each hidden layer which\n",
        "        doubles the width and height.\n",
        "\n",
        "    initial_num_filters \n",
        "        Derived from num_hidden_conv_layers. The goal is to have 128 filters in\n",
        "        the last hidden layer. Since we halve the number of filters each time we\n",
        "        upsample (as we do in each hidden conv layer) we can calculate the\n",
        "        initial number of filters by taking 128 and doubling it for each hidden\n",
        "        conv layer.\n",
        "    '''\n",
        "\n",
        "    num_hidden_conv_layers = 0\n",
        "    while width > 4 and height > 4:\n",
        "        width = width / 2\n",
        "        height = height / 2\n",
        "        if width.is_integer() and height.is_integer():\n",
        "            num_hidden_conv_layers += 1\n",
        "        else:\n",
        "            break\n",
        "    \n",
        "    initial_width = width * 2\n",
        "    initial_height = height * 2\n",
        "\n",
        "    initial_num_filters = 128 * (2**num_hidden_conv_layers)\n",
        "    \n",
        "    specs = {\n",
        "        'num_hidden_conv_layers': int(num_hidden_conv_layers),\n",
        "        'initial_width': int(initial_width),\n",
        "        'initial_height': int(initial_height),\n",
        "        'initial_num_filters': int(initial_num_filters)\n",
        "    }\n",
        "\n",
        "\n",
        "    return specs"
      ]
    },
    {
      "cell_type": "markdown",
      "metadata": {
        "id": "BMMm1zswlE3T"
      },
      "source": [
        "## Building toy model"
      ]
    },
    {
      "cell_type": "code",
      "execution_count": null,
      "metadata": {
        "id": "b3V77Lg3lJTg"
      },
      "outputs": [],
      "source": [
        "def build_generator(output_width, output_height, num_color_channels):\n",
        "    print(num_color_channels)\n",
        "    generator = Sequential([\n",
        "      Dense(7*7*256, activation='relu',input_dim=len_seed), # Initial flat hidden layer\n",
        "      Reshape((7, 7, 256)), # Reshape to 7x7x256 i.e. a 7x7 image with 256 filters\n",
        "\n",
        "      UpSampling2D(), # Doubles the resolution of the representation (from 7x7x256 to 14x14x256)\n",
        "      Conv2D(256, kernel_size=3, padding='same', activation='relu'),\n",
        "\n",
        "      UpSampling2D(), # 28x28x128\n",
        "      Conv2D(128, kernel_size=3, padding='same', activation='relu'),\n",
        "\n",
        "      Conv2D(num_color_channels, kernel_size=3, padding='same') # Combine/Process 128 filters into 1 color channel\n",
        "    ])\n",
        "\n",
        "    return generator\n",
        "\n",
        "def build_discriminator():\n",
        "  image_shape = (28, 28, 1)\n",
        "\n",
        "  discriminator = Sequential([\n",
        "    Conv2D(32, kernel_size=3, input_shape=image_shape, padding='same', activation='relu'),\n",
        "    Conv2D(64, kernel_size=3, padding='same', activation='relu'),\n",
        "    Conv2D(128, kernel_size=3, padding='same', activation='relu'),\n",
        "    Conv2D(256, kernel_size=3, padding='same', activation='relu'),\n",
        "    Conv2D(512, kernel_size=3, padding='same', activation='relu'),\n",
        "    Flatten(),\n",
        "    Dense(1, activation='sigmoid')\n",
        "  ])\n",
        "\n",
        "  return discriminator"
      ]
    },
    {
      "cell_type": "markdown",
      "metadata": {
        "id": "gEVagBb6CjTU"
      },
      "source": [
        "## Building DCGAN model"
      ]
    },
    {
      "cell_type": "code",
      "execution_count": 99,
      "metadata": {
        "id": "9UWAifwDCQee"
      },
      "outputs": [],
      "source": [
        "# weight initializer for all layers as suggested in the paper \n",
        "weight_initializer = tf.keras.initializers.RandomNormal(mean=0.0, stddev=0.02, seed=None)\n",
        "\n",
        "def build_generator(output_width, output_height, num_color_channels):\n",
        "  specs = get_dcgan_specs(output_width, output_height)\n",
        "\n",
        "  input_layers = [\n",
        "    Input(shape=(len_seed,)),\n",
        "    Dense(\n",
        "      specs['initial_width'] * specs['initial_height'] * specs['initial_num_filters'], \n",
        "      activation='relu', \n",
        "      kernel_initializer=weight_initializer\n",
        "    ),\n",
        "    Reshape((specs['initial_width'], specs['initial_height'], specs['initial_num_filters']))\n",
        "  ]\n",
        "\n",
        "  hidden_convolutional_layers = []\n",
        "  for i in range(specs['num_hidden_conv_layers']):\n",
        "    layers = [\n",
        "      Conv2DTranspose(\n",
        "        # Input layer has initial_num_filters, each hidden layer has half the\n",
        "        # number of filters of the previous hidden layer\n",
        "        specs['initial_num_filters'] // (2**(i + 1)), \n",
        "        kernel_size=3, \n",
        "        strides=2,\n",
        "        padding='same', \n",
        "        activation='relu', \n",
        "        kernel_initializer=weight_initializer\n",
        "      ),\n",
        "      BatchNormalization(momentum=0.8)\n",
        "    ]\n",
        "    hidden_convolutional_layers.extend(layers)\n",
        "\n",
        "  output_layers = [\n",
        "    Conv2D(\n",
        "      num_color_channels, \n",
        "      kernel_size=3, \n",
        "      padding='same', \n",
        "      activation='tanh', \n",
        "      kernel_initializer=weight_initializer\n",
        "    )\n",
        "  ]\n",
        "\n",
        "\n",
        "  generator = Sequential(input_layers + hidden_convolutional_layers + output_layers)\n",
        "  \n",
        "  return generator\n",
        "  \n",
        "def build_discriminator(input_width, input_height, num_color_channels):\n",
        "  specs = get_dcgan_specs(input_width, input_height)\n",
        "  initial_num_filters = 64\n",
        "\n",
        "  input_layers = [\n",
        "    Input(shape=(input_width, input_height, num_color_channels)),\n",
        "    Conv2D(\n",
        "      initial_num_filters, \n",
        "      kernel_size=3, \n",
        "      strides=2, \n",
        "      padding='same'\n",
        "    ),\n",
        "    LeakyReLU(0.2),\n",
        "  ]\n",
        "\n",
        "  hidden_layers = []\n",
        "  for i in range(specs['num_hidden_conv_layers'] - 1):\n",
        "    layers = [\n",
        "      Conv2D(\n",
        "        initial_num_filters * (2**(i + 1)),\n",
        "        kernel_size=3, \n",
        "        strides=2, \n",
        "        padding='same'\n",
        "      ),\n",
        "      LeakyReLU(0.2)\n",
        "    ]\n",
        "    hidden_layers.extend(layers)\n",
        "\n",
        "  output_layers = [\n",
        "    Flatten(),\n",
        "    Dense(1, activation='sigmoid')\n",
        "  ]\n",
        "\n",
        "  discriminator = Sequential(input_layers + hidden_layers + output_layers)\n",
        "\n",
        "  return discriminator\n",
        "\n"
      ]
    },
    {
      "cell_type": "markdown",
      "metadata": {
        "id": "nQzZd4kCmrty"
      },
      "source": [
        "## Initialize GAN"
      ]
    },
    {
      "cell_type": "code",
      "execution_count": 100,
      "metadata": {
        "colab": {
          "base_uri": "https://localhost:8080/"
        },
        "id": "ex79A0MimrFf",
        "outputId": "721fff10-4de8-4f64-aa88-f37e1e05142a"
      },
      "outputs": [],
      "source": [
        "generator = build_generator(28, 28, 1)\n",
        "discriminator = build_discriminator(28, 28, 1)"
      ]
    },
    {
      "cell_type": "markdown",
      "metadata": {
        "id": "-o-VaQBAJfvN"
      },
      "source": [
        "## Test Generator output"
      ]
    },
    {
      "cell_type": "code",
      "execution_count": 101,
      "metadata": {
        "colab": {
          "base_uri": "https://localhost:8080/",
          "height": 282
        },
        "id": "qQDhYbdpJfKB",
        "outputId": "d01d9fd5-9ffb-468b-beab-8dd0c36889ab"
      },
      "outputs": [
        {
          "data": {
            "text/plain": [
              "<matplotlib.image.AxesImage at 0x7f2b32237f50>"
            ]
          },
          "execution_count": 101,
          "metadata": {},
          "output_type": "execute_result"
        },
        {
          "data": {
            "image/png": "[encoded data removed]",
            "text/plain": [
              "<Figure size 432x288 with 1 Axes>"
            ]
          },
          "metadata": {
            "needs_background": "light"
          },
          "output_type": "display_data"
        }
      ],
      "source": [
        "input_noise = tf.random.normal([1, len_seed])\n",
        "generated_image = generator(input_noise, training=False)\n",
        "generated_image = ((generated_image + 1) * 127.5) \n",
        "# generated_image\n",
        "plt.imshow(tf.reshape(generated_image, (28, 28)))"
      ]
    },
    {
      "cell_type": "markdown",
      "metadata": {
        "id": "eIwDzbTnKTS_"
      },
      "source": [
        "## Test Discriminator output"
      ]
    },
    {
      "cell_type": "code",
      "execution_count": 102,
      "metadata": {
        "colab": {
          "base_uri": "https://localhost:8080/"
        },
        "id": "jztj9TyqKYRP",
        "outputId": "e6acc715-fc65-4093-b0bc-eb3b7ac61196"
      },
      "outputs": [
        {
          "data": {
            "text/plain": [
              "<tf.Tensor: shape=(1, 1), dtype=float32, numpy=array([[1.8666275e-09]], dtype=float32)>"
            ]
          },
          "execution_count": 102,
          "metadata": {},
          "output_type": "execute_result"
        }
      ],
      "source": [
        "decision = discriminator(generated_image)\n",
        "decision"
      ]
    },
    {
      "cell_type": "markdown",
      "metadata": {
        "id": "ZCYMO7CPWTpM"
      },
      "source": [
        "## Model summaries"
      ]
    },
    {
      "cell_type": "markdown",
      "metadata": {
        "id": "t8849CDpWdZZ"
      },
      "source": [
        "### Generator summary"
      ]
    },
    {
      "cell_type": "code",
      "execution_count": 95,
      "metadata": {
        "colab": {
          "base_uri": "https://localhost:8080/"
        },
        "id": "RQaL73ArWZs7",
        "outputId": "f3e85958-1e4d-43c1-ed3a-4b732d527ba5"
      },
      "outputs": [
        {
          "name": "stdout",
          "output_type": "stream",
          "text": [
            "Model: \"sequential_2\"\n",
            "_________________________________________________________________\n",
            " Layer (type)                Output Shape              Param #   \n",
            "=================================================================\n",
            " dense_2 (Dense)             (None, 25088)             2533888   \n",
            "                                                                 \n",
            " reshape_1 (Reshape)         (None, 7, 7, 512)         0         \n",
            "                                                                 \n",
            " conv2d_transpose_2 (Conv2DT  (None, 14, 14, 256)      1179904   \n",
            " ranspose)                                                       \n",
            "                                                                 \n",
            " batch_normalization_2 (Batc  (None, 14, 14, 256)      1024      \n",
            " hNormalization)                                                 \n",
            "                                                                 \n",
            " conv2d_transpose_3 (Conv2DT  (None, 28, 28, 128)      295040    \n",
            " ranspose)                                                       \n",
            "                                                                 \n",
            " batch_normalization_3 (Batc  (None, 28, 28, 128)      512       \n",
            " hNormalization)                                                 \n",
            "                                                                 \n",
            " conv2d_3 (Conv2D)           (None, 28, 28, 1)         1153      \n",
            "                                                                 \n",
            "=================================================================\n",
            "Total params: 4,011,521\n",
            "Trainable params: 4,010,753\n",
            "Non-trainable params: 768\n",
            "_________________________________________________________________\n"
          ]
        }
      ],
      "source": [
        "generator.summary()"
      ]
    },
    {
      "cell_type": "markdown",
      "metadata": {
        "id": "5f2s-cCZWW5-"
      },
      "source": [
        "### Discriminator summary"
      ]
    },
    {
      "cell_type": "code",
      "execution_count": 80,
      "metadata": {
        "colab": {
          "base_uri": "https://localhost:8080/"
        },
        "id": "jy42xUvpWd-r",
        "outputId": "20e68c07-1607-4f16-c5ad-1710c3676cb9"
      },
      "outputs": [
        {
          "name": "stdout",
          "output_type": "stream",
          "text": [
            "Model: \"sequential_3\"\n",
            "_________________________________________________________________\n",
            " Layer (type)                Output Shape              Param #   \n",
            "=================================================================\n",
            " conv2d_4 (Conv2D)           (None, 14, 14, 64)        640       \n",
            "                                                                 \n",
            " leaky_re_lu_2 (LeakyReLU)   (None, 14, 14, 64)        0         \n",
            "                                                                 \n",
            " conv2d_5 (Conv2D)           (None, 7, 7, 128)         73856     \n",
            "                                                                 \n",
            " leaky_re_lu_3 (LeakyReLU)   (None, 7, 7, 128)         0         \n",
            "                                                                 \n",
            " flatten_1 (Flatten)         (None, 6272)              0         \n",
            "                                                                 \n",
            " dense_3 (Dense)             (None, 1)                 6273      \n",
            "                                                                 \n",
            "=================================================================\n",
            "Total params: 80,769\n",
            "Trainable params: 80,769\n",
            "Non-trainable params: 0\n",
            "_________________________________________________________________\n"
          ]
        }
      ],
      "source": [
        "discriminator.summary()"
      ]
    },
    {
      "cell_type": "markdown",
      "metadata": {
        "id": "8q0p0FcfKrfd"
      },
      "source": [
        "## Loss Functions"
      ]
    },
    {
      "cell_type": "markdown",
      "metadata": {
        "id": "2ViViqr3LDHW"
      },
      "source": [
        "### Imports"
      ]
    },
    {
      "cell_type": "code",
      "execution_count": 81,
      "metadata": {
        "id": "Eq1hmld0KtiB"
      },
      "outputs": [],
      "source": [
        "from typing import BinaryIO\n",
        "from tensorflow.keras.losses import BinaryCrossentropy"
      ]
    },
    {
      "cell_type": "markdown",
      "metadata": {
        "id": "c7J5Q3TrLsCr"
      },
      "source": [
        "### Generator loss"
      ]
    },
    {
      "cell_type": "code",
      "execution_count": 82,
      "metadata": {
        "id": "5ksjzNzQdT9g"
      },
      "outputs": [],
      "source": [
        "binary_cross_entropy = BinaryCrossentropy(from_logits=True)"
      ]
    },
    {
      "cell_type": "code",
      "execution_count": 83,
      "metadata": {
        "id": "RcUWny1NLs5e"
      },
      "outputs": [],
      "source": [
        "def generator_loss(y_pred_fake):\n",
        "  return binary_cross_entropy(tf.ones_like(y_pred_fake), y_pred_fake)"
      ]
    },
    {
      "cell_type": "markdown",
      "metadata": {
        "id": "L9HwkwvILsn3"
      },
      "source": [
        "### Discriminator loss"
      ]
    },
    {
      "cell_type": "code",
      "execution_count": 84,
      "metadata": {
        "id": "VYpLzHjpLsWN"
      },
      "outputs": [],
      "source": [
        "def discriminator_loss(y_pred_real, y_pred_fake):\n",
        "  real_loss = binary_cross_entropy(tf.ones_like(y_pred_real), y_pred_real)\n",
        "  fake_loss = binary_cross_entropy(tf.zeros_like(y_pred_fake), y_pred_fake)\n",
        "  return real_loss + fake_loss"
      ]
    },
    {
      "cell_type": "markdown",
      "metadata": {
        "id": "ktnf9ZgoL3aH"
      },
      "source": [
        "## Optimizers"
      ]
    },
    {
      "cell_type": "markdown",
      "metadata": {
        "id": "emZF-rZ7L8e3"
      },
      "source": [
        "### Imports"
      ]
    },
    {
      "cell_type": "code",
      "execution_count": 85,
      "metadata": {
        "id": "UAFogNbwL6fL"
      },
      "outputs": [],
      "source": [
        "from tensorflow.keras.optimizers import Adam"
      ]
    },
    {
      "cell_type": "markdown",
      "metadata": {
        "id": "pBtR6jf6L8-Y"
      },
      "source": [
        "### Generator optimizer"
      ]
    },
    {
      "cell_type": "code",
      "execution_count": 86,
      "metadata": {
        "id": "ygrMNNJmL9UD"
      },
      "outputs": [],
      "source": [
        "generator_optimizer = Adam(0.0002, 0.5) # Recommended values from DCGAN paper"
      ]
    },
    {
      "cell_type": "markdown",
      "metadata": {
        "id": "HAMvCkq5L9o5"
      },
      "source": [
        "### Discriminator optimizer"
      ]
    },
    {
      "cell_type": "code",
      "execution_count": 87,
      "metadata": {
        "id": "iju9C-oGMGO7"
      },
      "outputs": [],
      "source": [
        "discriminator_optimizer = Adam(0.0002, 0.5)"
      ]
    },
    {
      "cell_type": "markdown",
      "metadata": {
        "id": "Jqxq6hvORST9"
      },
      "source": [
        "## Set up checkpoint"
      ]
    },
    {
      "cell_type": "code",
      "execution_count": 88,
      "metadata": {
        "id": "oR9fbtbIRRir"
      },
      "outputs": [],
      "source": [
        "import os\n",
        "\n",
        "checkpoint_dir = './training_checkpoints'\n",
        "checkpoint_prefix = os.path.join(checkpoint_dir, \"ckpt\")\n",
        "checkpoint = tf.train.Checkpoint(generator_optimizer=generator_optimizer,\n",
        "                                 discriminator_optimizer=discriminator_optimizer,\n",
        "                                 generator=generator,\n",
        "                                 discriminator=discriminator)"
      ]
    },
    {
      "cell_type": "markdown",
      "metadata": {
        "id": "kQhSfyoKMx_j"
      },
      "source": [
        "## Training function"
      ]
    },
    {
      "cell_type": "markdown",
      "metadata": {
        "id": "p_nYlGFNQXvc"
      },
      "source": [
        "### Imports"
      ]
    },
    {
      "cell_type": "code",
      "execution_count": 89,
      "metadata": {
        "id": "_-o-Jjp0QYIM"
      },
      "outputs": [],
      "source": [
        "import time\n",
        "from IPython import display"
      ]
    },
    {
      "cell_type": "markdown",
      "metadata": {
        "id": "-jHVg8OTSGHG"
      },
      "source": [
        "### Training function definitions"
      ]
    },
    {
      "cell_type": "code",
      "execution_count": 90,
      "metadata": {
        "id": "zKa8H8zgP0Vs"
      },
      "outputs": [],
      "source": [
        "# @tf.function\n",
        "def train_step(real_image_batch, batch_size):\n",
        "  input_noise_seeds = tf.random.normal([batch_size, len_seed])\n",
        "\n",
        "  with tf.GradientTape() as gen_tape, tf.GradientTape() as disc_tape:\n",
        "    generated_image_batch = generator(input_noise_seeds, training=True)\n",
        "\n",
        "    y_pred_real = discriminator(real_image_batch, training=True)\n",
        "    y_pred_fake = discriminator(generated_image_batch, training=True)\n",
        "\n",
        "    gen_loss = generator_loss(y_pred_fake)\n",
        "    disc_loss = discriminator_loss(y_pred_real, y_pred_fake)\n",
        "\n",
        "    print(f'Generator loss: {gen_loss}, Discriminator loss: {disc_loss}', end='\\r')\n",
        "\n",
        "    generator_gradient = gen_tape.gradient(gen_loss, generator.trainable_variables)\n",
        "    discriminator_gradient = disc_tape.gradient(disc_loss, discriminator.trainable_variables)\n",
        "\n",
        "    generator_optimizer.apply_gradients(zip(generator_gradient, generator.trainable_variables))\n",
        "    discriminator_optimizer.apply_gradients(zip(discriminator_gradient, discriminator.trainable_variables))\n",
        "\n",
        "    return gen_loss, disc_loss\n"
      ]
    },
    {
      "cell_type": "code",
      "execution_count": 92,
      "metadata": {
        "id": "i8eeC-bBRRIo"
      },
      "outputs": [],
      "source": [
        "def generate_and_save_images(model, epoch, test_seeds):\n",
        "  # Notice `training` is set to False.\n",
        "  # This is so all layers run in inference mode (batchnorm).\n",
        "  predictions = model(test_seeds, training=False)\n",
        "\n",
        "  fig = plt.figure(figsize=(4, 4))\n",
        "\n",
        "  for i in range(predictions.shape[0]):\n",
        "      plt.subplot(4, 4, i+1)\n",
        "      plt.imshow(predictions[i, :, :, 0] * 127.5 + 127.5, cmap='gray')\n",
        "      plt.axis('off')\n",
        "\n",
        "  plt.savefig('image_at_epoch_{:04d}.png'.format(epoch))\n",
        "  plt.show()"
      ]
    },
    {
      "cell_type": "code",
      "execution_count": 91,
      "metadata": {
        "id": "0JmgF8OCM1F5"
      },
      "outputs": [],
      "source": [
        "def train(dataset, epochs, batch_size, num_test_seeds):\n",
        "  if not (len(dataset) / batch_size).is_integer():\n",
        "    print('Batch size not compatible with dataset size')\n",
        "    return\n",
        "\n",
        "  if num_test_seeds < 1:\n",
        "    print('Number of test seeds invalid (must be > 0)')\n",
        "    return\n",
        "  \n",
        "  test_seeds = tf.random.normal([num_test_seeds, len_seed])\n",
        "\n",
        "  # Assumes that the dataset has already been preprocessed\n",
        "  # Expected dataset shape (num_instances, width, height, color_channels)\n",
        "  num_images = len(dataset)\n",
        "\n",
        "  for epoch in range(epochs):\n",
        "    \n",
        "    start = time.time()\n",
        "    gen_loss, disc_loss = None, None\n",
        "    for i in range(len(dataset)//batch_size):\n",
        "      display.clear_output(wait=True)\n",
        "      real_image_batch = dataset[i * batch_size : (i + 1) * batch_size]\n",
        "      print(f'Loss for previous batch #{i}: Generator loss = {gen_loss}, Discriminator loss = {disc_loss}')\n",
        "      print(f'Epoch # {epoch + 1}/{epochs}')\n",
        "      print(f'Batch # {i}/{len(dataset)//batch_size}')\n",
        "      gen_loss, disc_loss = train_step(real_image_batch, batch_size)\n",
        "      \n",
        "    generate_and_save_images(generator, epoch + 1, test_seeds)\n",
        "\n",
        "    if (epoch + 1) % 15 == 0:\n",
        "      checkpoint.save(file_prefix=checkpoint_prefix)\n",
        "\n",
        "    print(f'Time for epoch {epoch + 1} is {time.time()-start} sec')\n",
        "  \n",
        "  display.clear_output(wait=True)\n",
        "  generate_and_save_images(generator, epochs, test_seeds)"
      ]
    },
    {
      "cell_type": "markdown",
      "metadata": {
        "id": "opeNi6KcSAAw"
      },
      "source": [
        "## Training the model"
      ]
    },
    {
      "cell_type": "code",
      "execution_count": 103,
      "metadata": {
        "colab": {
          "base_uri": "https://localhost:8080/",
          "height": 265
        },
        "id": "ohj2NRSQR6As",
        "outputId": "4a496e3c-e057-4f40-f073-5bedb8a42134"
      },
      "outputs": [
        {
          "data": {
            "image/png": "[encoded data removed]",
            "text/plain": [
              "<Figure size 288x288 with 16 Axes>"
            ]
          },
          "metadata": {
            "needs_background": "light"
          },
          "output_type": "display_data"
        },
        {
          "name": "stdout",
          "output_type": "stream",
          "text": [
            "Total training time (in seconds): 52.70965504646301\n"
          ]
        }
      ],
      "source": [
        "start = time.time()\n",
        "train(training_data, epochs=1, batch_size=125, num_test_seeds=16)\n",
        "end = time.time()\n",
        "print(f'Total training time (in seconds): {end - start}')"
      ]
    },
    {
      "cell_type": "markdown",
      "metadata": {},
      "source": [
        "## Rescaling image output from [-1, 1] to [0, 255]"
      ]
    },
    {
      "cell_type": "code",
      "execution_count": 110,
      "metadata": {
        "colab": {
          "base_uri": "https://localhost:8080/"
        },
        "id": "SY7y_hPobHkh",
        "outputId": "da489885-8605-4533-e29b-9a1cc0daf34c"
      },
      "outputs": [
        {
          "data": {
            "text/plain": [
              "<matplotlib.image.AxesImage at 0x7f2b520706d0>"
            ]
          },
          "execution_count": 110,
          "metadata": {},
          "output_type": "execute_result"
        },
        {
          "data": {
            "image/png": "[encoded data removed]",
            "text/plain": [
              "<Figure size 432x288 with 1 Axes>"
            ]
          },
          "metadata": {
            "needs_background": "light"
          },
          "output_type": "display_data"
        }
      ],
      "source": [
        "rand_seed = tf.random.normal([1, 100])\n",
        "image = generator(rand_seed, training=False)[0]\n",
        "plt.imshow(image[:,:,0], cmap='gray')"
      ]
    },
    {
      "cell_type": "code",
      "execution_count": 111,
      "metadata": {
        "colab": {
          "base_uri": "https://localhost:8080/",
          "height": 730
        },
        "id": "dfBFpA4G4sK2",
        "outputId": "b43a5ffb-3239-4eaf-c98e-dedb8b002dc3"
      },
      "outputs": [
        {
          "data": {
            "text/plain": [
              "<matplotlib.image.AxesImage at 0x7f2b52324310>"
            ]
          },
          "execution_count": 111,
          "metadata": {},
          "output_type": "execute_result"
        },
        {
          "data": {
            "image/png": "[encoded data removed]",
            "text/plain": [
              "<Figure size 432x288 with 1 Axes>"
            ]
          },
          "metadata": {
            "needs_background": "light"
          },
          "output_type": "display_data"
        }
      ],
      "source": [
        "image = (image + 1)/(2) * 255\n",
        "np.min(image), np.max(image)\n",
        "# # image = np.expand_dims(image, axis=0)\n",
        "# # rand_seed\n",
        "plt.imshow(image[:, :, 0], cmap='gray')"
      ]
    },
    {
      "cell_type": "markdown",
      "metadata": {
        "id": "l0dTItk4sNNX"
      },
      "source": [
        "## Saving the model"
      ]
    },
    {
      "cell_type": "code",
      "execution_count": null,
      "metadata": {
        "colab": {
          "base_uri": "https://localhost:8080/"
        },
        "id": "T4tn9hP1bMQj",
        "outputId": "71d91555-b1b0-4c08-e05b-627538baa9fe"
      },
      "outputs": [],
      "source": [
        "generator.save('./models/generator')"
      ]
    },
    {
      "cell_type": "code",
      "execution_count": null,
      "metadata": {
        "colab": {
          "base_uri": "https://localhost:8080/"
        },
        "id": "zcvCZwovuyx1",
        "outputId": "e976e705-4bec-47af-b6ac-bc1a54ee161c"
      },
      "outputs": [],
      "source": [
        "discriminator.save('./models/discriminator')"
      ]
    },
    {
      "cell_type": "markdown",
      "metadata": {
        "id": "TVnFQ6qY4Hzx"
      },
      "source": [
        "## Download folder"
      ]
    },
    {
      "cell_type": "code",
      "execution_count": null,
      "metadata": {
        "colab": {
          "base_uri": "https://localhost:8080/"
        },
        "id": "SMm5sl1h4GSF",
        "outputId": "3d177747-2f22-40c7-a4f8-8d6242746213"
      },
      "outputs": [],
      "source": [
        "!tar cvf toy_model_batch_processing.tgz toy_model_batch_processing/"
      ]
    },
    {
      "cell_type": "code",
      "execution_count": null,
      "metadata": {
        "colab": {
          "base_uri": "https://localhost:8080/"
        },
        "id": "cXIP1IJQqOmz",
        "outputId": "79e74bf3-babe-453d-8d42-479dc3d373c2"
      },
      "outputs": [],
      "source": [
        "!tar cvf generator.tgz ./models/generator"
      ]
    }
  ],
  "metadata": {
    "accelerator": "GPU",
    "colab": {
      "collapsed_sections": [
        "Fr_WAoneq4FU",
        "iWLYMeV3OUTi",
        "goAOESttASVk",
        "geLJF66MAW1P",
        "h4IhJUTRAj2D",
        "pOvr5CE5BVts",
        "utMLnUc2DMpS",
        "nQzZd4kCmrty",
        "-o-VaQBAJfvN",
        "eIwDzbTnKTS_",
        "ZCYMO7CPWTpM",
        "8q0p0FcfKrfd",
        "ktnf9ZgoL3aH",
        "emZF-rZ7L8e3",
        "pBtR6jf6L8-Y",
        "HAMvCkq5L9o5",
        "Jqxq6hvORST9",
        "kQhSfyoKMx_j",
        "p_nYlGFNQXvc",
        "-jHVg8OTSGHG",
        "l0dTItk4sNNX"
      ],
      "machine_shape": "hm",
      "provenance": []
    },
    "gpuClass": "premium",
    "kernelspec": {
      "display_name": "Python 3",
      "language": "python",
      "name": "python3"
    },
    "language_info": {
      "codemirror_mode": {
        "name": "ipython",
        "version": 3
      },
      "file_extension": ".py",
      "mimetype": "text/x-python",
      "name": "python",
      "nbconvert_exporter": "python",
      "pygments_lexer": "ipython3",
      "version": "3.7.15"
    }
  },
  "nbformat": 4,
  "nbformat_minor": 0
}
