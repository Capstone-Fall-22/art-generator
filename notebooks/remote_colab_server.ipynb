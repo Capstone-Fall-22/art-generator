{
 "cells": [
  {
   "cell_type": "markdown",
   "metadata": {},
   "source": [
    "# Remote Colab server\n",
    "\n",
    "Creates an ngrok tunnel to a colab instance and downloads datasets from drive"
   ]
  },
  {
   "cell_type": "code",
   "execution_count": null,
   "metadata": {
    "vscode": {
     "languageId": "python"
    }
   },
   "outputs": [],
   "source": [
    "gpu_info = !nvidia-smi\n",
    "gpu_info = '\\n'.join(gpu_info)\n",
    "if gpu_info.find('failed') >= 0:\n",
    "  print('Not connected to a GPU')\n",
    "else:\n",
    "  print(gpu_info)\n",
    "\n",
    "from psutil import virtual_memory\n",
    "ram_gb = virtual_memory().total / 1e9\n",
    "print('Your runtime has {:.1f} gigabytes of available RAM\\n'.format(ram_gb))\n",
    "\n",
    "if ram_gb < 20:\n",
    "  print('Not using a high-RAM runtime')\n",
    "else:\n",
    "  print('You are using a high-RAM runtime!')\n",
    "  "
   ]
  },
  {
   "cell_type": "code",
   "execution_count": null,
   "metadata": {
    "vscode": {
     "languageId": "python"
    }
   },
   "outputs": [],
   "source": [
    "# Install jupyterlab and ngrok\n",
    "!pip install jupyterlab==2.2.9 pyngrok python-dotenv -q\n",
    "\n",
    "# Run jupyterlab in background\n",
    "!nohup jupyter lab --ip=0.0.0.0 &"
   ]
  },
  {
   "cell_type": "code",
   "execution_count": null,
   "metadata": {
    "vscode": {
     "languageId": "python"
    }
   },
   "outputs": [],
   "source": [
    "import os\n",
    "from dotenv import load_dotenv\n",
    "from pyngrok import ngrok, conf\n",
    "\n",
    "load_dotenv()\n",
    "\n",
    "conf.get_default().config_path = \"/opt/ngrok/ngrok.yml\"\n",
    "\n",
    "# Get your token from https://dashboard.ngrok.com/get-started/your-authtoken\n",
    "ngrok.set_auth_token(os.getenv(\"NGROK_AUTH_TOKEN\")) \n",
    "\n",
    "# Make jupyterlab accessible via ngrok\n",
    "\n",
    "# Take the ngrok link from this output and input it as the URI of your server\n",
    "# on VScode\n",
    "print(ngrok.connect(8888))\n",
    "\n",
    "!rm /content/.env"
   ]
  },
  {
   "cell_type": "code",
   "execution_count": null,
   "metadata": {
    "vscode": {
     "languageId": "python"
    }
   },
   "outputs": [],
   "source": [
    "from google.colab import drive\n",
    "drive.mount('/content/gdrive')\n",
    "!cp '/content/gdrive/My Drive/school/fall_22/capstone/ai_generated_nfts/datasets/dataset.tar.gz' dataset.tar.gz\n",
    "!tar -xvf dataset.tar.gz\n",
    "!mv resized_dataset dataset\n",
    "drive.flush_and_unmount()"
   ]
  }
 ],
 "metadata": {
  "kernelspec": {
   "display_name": "Python 3",
   "language": "python",
   "name": "python3"
  },
  "orig_nbformat": 4
 },
 "nbformat": 4,
 "nbformat_minor": 2
}
